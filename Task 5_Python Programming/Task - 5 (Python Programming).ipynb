{
 "cells": [
  {
   "cell_type": "code",
   "execution_count": 1,
   "metadata": {},
   "outputs": [],
   "source": [
    "import warnings\n",
    "warnings.filterwarnings('ignore')\n",
    "\n",
    "import re\n",
    "\n",
    "from IPython.core.interactiveshell import InteractiveShell\n",
    "InteractiveShell.ast_node_interactivity = 'all'"
   ]
  },
  {
   "cell_type": "raw",
   "metadata": {},
   "source": [
    "Major functions that are avaialble in re:\n",
    "\n",
    "Compile - Returns a RegEx pattern object.\n",
    "Search - Returns a match object if there is a match found.\n",
    "findall - Returns a list of all matches.\n",
    "sub - Replaces one or more matches within the text.\n",
    "split - Returns a list where the text has been split at every match.\n",
    "Braces - (), {}, []\n",
    "\n",
    "Special characters - |, ?, *, +, ^, $, .\n",
    "\n",
    "Character classes\n",
    "\n",
    "\\d - Any numeric digit from 0 to 9.\n",
    "\\D - Any character that is not a numeric digit (from 0 to 9).\n",
    "\\w - Any character which is an alphabet or numeric digit or underscore (_).\n",
    "\\W - Any character which is not an alphabet or numeric digit or underscore (_).\n",
    "\\s - Any space or tab space or newline.\n",
    "\\S - Any character which is not a space or tab space or newline.\n",
    "\\b - Word boundary. This matches the beginning and end of a word.\n"
   ]
  },
  {
   "cell_type": "markdown",
   "metadata": {},
   "source": [
    "# Question 1"
   ]
  },
  {
   "cell_type": "markdown",
   "metadata": {},
   "source": [
    "floating point number\n",
    "\n",
    "You are given a string N .\n",
    "Your task is to verify that N is a floating point number.\n",
    "\n",
    "In this task, a valid float number must satisfy all of the following requirements:\n",
    "    \n",
    " Number can start with +, - or . symbol.\n",
    "\n",
    "Input Format\n",
    "\n",
    "The first line contains an integer T, the number of test cases.\n",
    "The next T line(s) contains a string N.\n",
    "\n",
    "\n",
    "Output Format\n",
    "\n",
    "Output True or False for each test case.\n"
   ]
  },
  {
   "cell_type": "code",
   "execution_count": 18,
   "metadata": {},
   "outputs": [],
   "source": [
    "myregx = re.compile(r'^[+-]?[0-9]*\\.[0-9]+$')"
   ]
  },
  {
   "cell_type": "code",
   "execution_count": 19,
   "metadata": {
    "scrolled": true
   },
   "outputs": [
    {
     "name": "stdout",
     "output_type": "stream",
     "text": [
      "4\n",
      "4.0O0\n",
      "False\n",
      "-1.00\n",
      "True\n",
      "+4.54\n",
      "True\n",
      "SomeRandomStuff\n",
      "False\n"
     ]
    }
   ],
   "source": [
    "T = int(input())\n",
    "for i in range(T):\n",
    "    N = input()\n",
    "    print(bool(re.match(myregx, N)))\n",
    "\n",
    "    "
   ]
  },
  {
   "cell_type": "markdown",
   "metadata": {},
   "source": [
    "# Question 2"
   ]
  },
  {
   "cell_type": "markdown",
   "metadata": {},
   "source": [
    "re.split()\n",
    "\n",
    "You are given a string S consisting only of digits 0-9, commas ,, and dots .\n",
    "\n",
    "Your task is to complete the regex_pattern defined below, which will be used to re.split() all of the , and . symbols in S.\n",
    "\n",
    "It’s guaranteed that every comma and every dot in S is preceeded and followed by a digit.\n",
    "\n"
   ]
  },
  {
   "cell_type": "code",
   "execution_count": 28,
   "metadata": {},
   "outputs": [],
   "source": [
    "myregex = re.compile(r'[\\D]')"
   ]
  },
  {
   "cell_type": "code",
   "execution_count": 29,
   "metadata": {},
   "outputs": [
    {
     "name": "stdout",
     "output_type": "stream",
     "text": [
      "100,000,000.000\n",
      "100\n",
      "000\n",
      "000\n",
      "000\n"
     ]
    }
   ],
   "source": [
    "n = input()\n",
    "lis = re.split(myregex,n)\n",
    "for i in lis:\n",
    "    print(i)"
   ]
  },
  {
   "cell_type": "markdown",
   "metadata": {},
   "source": [
    "# Question 3"
   ]
  },
  {
   "cell_type": "raw",
   "metadata": {},
   "source": [
    "mobile numbers\n",
    "\n",
    "Let's dive into the interesting topic of regular expressions! You are given some input, and you are required to check whether they are valid mobile numbers.\n",
    "\n",
    "A valid mobile number is a ten digit number starting with a 7,8 or 9 .\n",
    "\n",
    "Concept\n",
    "\n",
    "A valid mobile number is a ten digit number starting with a 7,8 or 9.\n",
    "\n",
    "Regular expressions are a key concept in any programming language. A quick explanation with Python examples is available here. You could also go through the link below to read more about regular expressions in Python.\n",
    "\n",
    "Input Format\n",
    "\n",
    "The first line contains an integer N, the number of inputs.\n",
    " N lines follow, each containing some string.\n",
    "\n",
    "Output Format\n",
    "\n",
    "For every string listed, print \"YES\" if it is a valid mobile number and \"NO\" if it is not on separate lines. Do not print the quotes.\n",
    "\n"
   ]
  },
  {
   "cell_type": "code",
   "execution_count": 40,
   "metadata": {},
   "outputs": [],
   "source": [
    "myregex = re.compile(r'[7-9]\\d{9}$')"
   ]
  },
  {
   "cell_type": "code",
   "execution_count": 41,
   "metadata": {},
   "outputs": [
    {
     "name": "stdout",
     "output_type": "stream",
     "text": [
      "3\n",
      "85234789651\n",
      "no\n",
      "8956324712\n",
      "yes\n",
      "abcd\n",
      "no\n"
     ]
    }
   ],
   "source": [
    "n = int(input())\n",
    "for i in range(n):\n",
    "    num = input()\n",
    "    if myregex.match(num):\n",
    "        print('yes')\n",
    "    else:\n",
    "        print('no')\n"
   ]
  },
  {
   "cell_type": "markdown",
   "metadata": {},
   "source": [
    "# Question 4"
   ]
  },
  {
   "cell_type": "raw",
   "metadata": {},
   "source": [
    "start() & end()\n",
    "These expressions return the indices of the start and end of the substring matched by the group.\n",
    "\n",
    "Task\n",
    "You are given a string S.\n",
    "Your task is to find the indices of the start and end of string K in S.\n",
    "\n",
    "Input Format\n",
    "\n",
    "The first line contains the string S.\n",
    "The second line contains the string K.\n",
    "\n",
    "Output Format\n",
    "\n",
    "Print the tuple in this format: (start _index, end _index).\n",
    "If no match is found, print (-1, -1).\n",
    "\n",
    "\n",
    "\n"
   ]
  },
  {
   "cell_type": "code",
   "execution_count": 1,
   "metadata": {},
   "outputs": [],
   "source": [
    "import re"
   ]
  },
  {
   "cell_type": "code",
   "execution_count": 14,
   "metadata": {},
   "outputs": [
    {
     "name": "stdout",
     "output_type": "stream",
     "text": [
      "aaadaa\n",
      "aa\n",
      "(0, 1)\n",
      "(1, 2)\n",
      "(4, 5)\n"
     ]
    }
   ],
   "source": [
    "s = input()\n",
    "k = input()\n",
    "\n",
    "myregex = re.compile(k)\n",
    "\n",
    "match = myregex.search(s)\n",
    "\n",
    "if not match:\n",
    "    print((-1,-1))\n",
    "    \n",
    "else:\n",
    "    while match:\n",
    "        \n",
    "        print((match.start(),match.end()-1))\n",
    "    \n",
    "        match = myregex.search(s,match.start()+1)\n",
    "    \n",
    "\n"
   ]
  },
  {
   "cell_type": "markdown",
   "metadata": {},
   "source": [
    "# Question 5"
   ]
  },
  {
   "cell_type": "markdown",
   "metadata": {},
   "source": [
    "Vowels and Consonants\n",
    "\n",
    "You are given a string S. It consists of alphanumeric characters, spaces and symbols(+,-).\n",
    "Your task is to find all the substrings of S that contains 2 or more vowels.\n",
    "Also, these substrings must lie in between 2 consonants and should contain vowels only.\n",
    "\n",
    "Note :\n",
    "Vowels are defined as: AEIOU and aeiou.\n",
    "Consonants are defined as: QWRTYPSDFGHJKLZXCVBNM and qwrtypsdfghjklzxcvbnm.\n",
    "\n",
    "Input Format\n",
    "\n",
    "A single line of input containing string S.\n",
    "\n",
    "\n",
    "Output Format\n",
    "\n",
    "Print the matched substrings in their order of occurrence on separate lines.\n",
    "If no match is found, print -1.\n",
    "\n",
    "Sample Input\n",
    "\n",
    "rabcdeefgyYhFjkIoomnpOeorteeeeet\n",
    "Sample Output\n",
    "\n",
    "ee\n",
    "Ioo\n",
    "Oeo\n",
    "eeeee\n"
   ]
  },
  {
   "cell_type": "code",
   "execution_count": 26,
   "metadata": {},
   "outputs": [
    {
     "name": "stdout",
     "output_type": "stream",
     "text": [
      "rabcdeefgyYhFjkIoomnpOeorteeeeet\n",
      "['ee', 'Ioo', 'Oeo', 'eeeee']\n"
     ]
    }
   ],
   "source": [
    "s = input()\n",
    "\n",
    "vowles = '[AEIOU]'\n",
    "\n",
    "Consonants  = '[qwrtypsdfghjklzxcvbnm]'\n",
    "\n",
    "substring = re.findall(r\"{Consonants}({vowles}{{2,}})(?={Consonants})\".format(Consonants = Consonants,vowles=vowles),s,re.IGNORECASE)\n",
    "print(substring, sep= '\\n')"
   ]
  },
  {
   "cell_type": "markdown",
   "metadata": {},
   "source": [
    "# Question 6"
   ]
  },
  {
   "cell_type": "markdown",
   "metadata": {},
   "source": [
    "SUB\n",
    "\n",
    "You are given a text of N  lines. The text contains && and || symbols.\n",
    "Your task is to modify those symbols to the following:\n",
    "\n",
    "&& → and\n",
    "|| → or\n",
    "Both && and || should have a space \" \" on both sides.\n",
    "Input Format\n",
    "\n",
    "The first line contains the integer,N .\n",
    "The next N lines each contain a line of the text.\n",
    "\n",
    "Neither && nor ||| and &&&&& occur in the start or end of each line.\n",
    "\n",
    "Output Format\n",
    "\n",
    "Output the modified text.\n",
    "\n",
    "\n"
   ]
  },
  {
   "cell_type": "code",
   "execution_count": 45,
   "metadata": {},
   "outputs": [
    {
     "name": "stdout",
     "output_type": "stream",
     "text": [
      "You are given a text of N  lines. The text contains && and || symbols. Your task is to modify those symbols to the following:  && → and || → or Both && and || should have a space \" \" on both sides. Input Format  The first line contains the integer,N . The next N lines each contain a line of the text.  Neither && nor || occur in the start or end of each line.  Output Format  Output the modified text.\n",
      "You are given a text of N  lines. The text contains and and or symbols. Your task is to modify those symbols to the following:  and → and or → or Both and and or should have a space \" \" on both sides. Input Format  The first line contains the integer,N . The next N lines each contain a line of the text.  Neither and nor or occur in the start or end of each line.  Output Format  Output the modified text.\n"
     ]
    }
   ],
   "source": [
    "s = input()\n",
    "myregex1 = re.compile(r'\\s\\|\\|\\s')\n",
    "myregex2 = re.compile(r'\\s\\&\\&\\s')\n",
    "\n",
    "output = myregex1.sub(' or ',s)\n",
    "output = myregex2.sub(' and ',output)\n",
    "print(output)"
   ]
  },
  {
   "cell_type": "code",
   "execution_count": 10,
   "metadata": {},
   "outputs": [
    {
     "name": "stdout",
     "output_type": "stream",
     "text": [
      "1\n",
      "x&& &&& && && x || | ||\\|| x\n",
      "x&& &&& and and x or | ||\\|| x\n"
     ]
    }
   ],
   "source": [
    "myregex1 = re.compile(r'\\s\\|\\|\\s')\n",
    "myregex2 = re.compile(r'\\s\\&\\&\\s')\n",
    "\n",
    "for i in range(int(input())):\n",
    "    s= input()\n",
    "    output = myregex1.sub(' or ',s)\n",
    "    output = myregex1.sub(' or ',output)\n",
    "    output = myregex2.sub(' and ',output)\n",
    "    output = myregex2.sub(' and ',output)\n",
    "    print(output)"
   ]
  },
  {
   "cell_type": "markdown",
   "metadata": {},
   "source": [
    "# Question 7"
   ]
  },
  {
   "cell_type": "raw",
   "metadata": {},
   "source": [
    "credit card numbers\n",
    "\n",
    "You and Fredrick are good friends. Yesterday, Fredrick received N credit cards from ABCD Bank. He wants to verify whether his credit card numbers are valid or not. You happen to be great at regex so he is asking for your help!\n",
    "\n",
    "A valid credit card from ABCD Bank has the following characteristics:\n",
    "\n",
    "► It must start with a 4, 5 or 6.\n",
    "► It must contain exactly 16 digits.\n",
    "► It must only consist of digits (0-9).\n",
    "► It may have digits in groups of 4, separated by one hyphen \"-\".\n",
    "► It must NOT use any other separator like ' ' , '_', etc.\n",
    "► It must NOT have 4 or more consecutive repeated digits.\n",
    "\n",
    "\n",
    "Input Format\n",
    "\n",
    "The first line of input contains an integer N .\n",
    "The next N lines contain credit card numbers.\n",
    "\n",
    "\n",
    "Output Format\n",
    "\n",
    "Print 'Valid' if the credit card number is valid. Otherwise, print 'Invalid'. Do not print the quotes.\n",
    "\n",
    "\n"
   ]
  },
  {
   "cell_type": "code",
   "execution_count": 31,
   "metadata": {},
   "outputs": [
    {
     "name": "stdout",
     "output_type": "stream",
     "text": [
      "5\n",
      "7165863385679329\n",
      "invalid\n",
      "6175824393389297\n",
      "Valid\n",
      "5252248277877418\n",
      "Valid\n",
      "9563584181869815\n",
      "invalid\n",
      "5179123424576876\n",
      "Valid\n"
     ]
    }
   ],
   "source": [
    "myregex1 = re.compile(r'^[4,5,6]\\d{3}(-)?\\d{4}(-)?\\d{4}(-)?\\d{4}$')\n",
    "myregex2 = re.compile(r'(\\d)(-?\\1){3}')\n",
    "card = []\n",
    "\n",
    "for i in range(int(input())):\n",
    "    s= input()\n",
    "    if (myregex1.search(s)) and  not myregex2.search(s):\n",
    "        print('Valid')\n",
    "    else:\n",
    "        print('invalid')\n",
    "        \n",
    "    \n",
    "    \n"
   ]
  },
  {
   "cell_type": "markdown",
   "metadata": {},
   "source": [
    "# Question 8"
   ]
  },
  {
   "cell_type": "markdown",
   "metadata": {},
   "source": [
    "Roman numers\n",
    "\n",
    "You are given a string, and you have to validate whether it's a valid Roman numeral. If it is valid, print True. Otherwise, print False. Try to create a regular expression for a valid Roman numeral.\n",
    "\n",
    "Input Format\n",
    "\n",
    "A single line of input containing a string of Roman characters.\n",
    "\n",
    "Output Format\n",
    "\n",
    "Output a single line containing True or False according to the instructions above.\n",
    "\n",
    "Constraints\n",
    "\n",
    "The number will be between 1 and 3999 (both included).\n",
    "\n"
   ]
  },
  {
   "cell_type": "code",
   "execution_count": 33,
   "metadata": {},
   "outputs": [
    {
     "name": "stdout",
     "output_type": "stream",
     "text": [
      "CDXXI\n",
      "True\n"
     ]
    }
   ],
   "source": [
    " s= input()\n",
    "regex= re.compile(r'^M{0,3}(CM|CD|D?C{0,3})(XC|XL|L?X{0,3})(IX|IV|V?I{0,3})$')\n",
    "if regex.search(s):\n",
    "    print(True)\n",
    "else:\n",
    "    print(False)\n"
   ]
  },
  {
   "cell_type": "markdown",
   "metadata": {},
   "source": [
    "# Question 9"
   ]
  },
  {
   "cell_type": "markdown",
   "metadata": {},
   "source": [
    "A valid email address meets the following criteria:\n",
    "\n",
    "It's composed of a username, domain name, and extension assembled in this format: username@domain.extension\n",
    "The username starts with an English alphabetical character, and any subsequent characters consist of one or more of the following: alphanumeric characters, -,., and _.\n",
    "The domain and extension contain only English alphabetical characters.\n",
    "The extension is 1,2, or3  characters in length.\n",
    "\n",
    "Given n pairs of names and email addresses as input, print each name and email address pair having a valid email address on a new line.\n",
    "\n",
    "Input Format\n",
    "\n",
    "The first line contains a single integer,n , denoting the number of email address.\n",
    "Each line i of the n subsequent lines contains a name and an email address as two space-separated values following this format:\n",
    "\n",
    "name <user@email.com>\n",
    "\n",
    "Output Format\n",
    "\n",
    "Print the space-separated name and email address pairs containing valid email addresses only. Each pair must be printed on a new line in the following format:\n",
    "\n",
    "name <user@email.com>\n",
    "You must print each valid email address in the same order as it was received as input.\n",
    "\n",
    "\n"
   ]
  },
  {
   "cell_type": "code",
   "execution_count": 39,
   "metadata": {},
   "outputs": [
    {
     "name": "stdout",
     "output_type": "stream",
     "text": [
      "1\n",
      "DOSHI <DOSHI@hackerrank.com>\n",
      "DOSHI <DOSHI@hackerrank.com>\n"
     ]
    }
   ],
   "source": [
    "import re\n",
    "regex=r\"<[a-z]+[\\w\\-.]*@[a-z]+\\.[a-z]{1,3}>\"\n",
    "n=int(input())\n",
    "\n",
    "for _ in range(n):\n",
    "    name,email=input().split()\n",
    "    if re.match(regex,email,re.I):\n",
    "        print(\" \".join([name,email]))\n"
   ]
  },
  {
   "cell_type": "markdown",
   "metadata": {},
   "source": [
    "# Question 10"
   ]
  },
  {
   "cell_type": "raw",
   "metadata": {},
   "source": [
    "CSS colors are defined using a hexadecimal (HEX) notation for the combination of Red, Green, and Blue color values (RGB).\n",
    "\n",
    "Specifications of HEX Color Code\n",
    "\n",
    "■ It must start with a '#' symbol.\n",
    "■ It can have 3 or 6 digits.\n",
    "■ Each digit is in the range of 0 to F. (0,1,2,3,4,5,6,7,8,9,A,B,C,D,E and F).\n",
    "■ A-F letters can be lower case. (a,b,c,d and f are also valid digits).\n",
    "\n",
    "\n",
    "You are given N lines of CSS code. Your task is to print all valid Hex Color Codes, in order of their occurrence from top to bottom.\n",
    "\n",
    "\n",
    "Input Format\n",
    "\n",
    "The first line contains ,N the number of code lines.\n",
    "The next N lines contains CSS Codes.\n",
    "\n",
    "Output Format\n",
    "\n",
    "Output the color codes with '#' symbols on separate lines.\n"
   ]
  },
  {
   "cell_type": "code",
   "execution_count": 9,
   "metadata": {},
   "outputs": [
    {
     "name": "stdout",
     "output_type": "stream",
     "text": [
      "11\n",
      "#bed\n",
      "{\n",
      "    color: #FfFdF8; background-color:#aef;\n",
      "    font-size: 123px;\n",
      "    background: -webkit-linear-gradient(top, #f9f9f9, #fff);\n",
      "}\n",
      "#Cab\n",
      "    background-color: #ABC;\n",
      "{\n",
      "    border: 2px dashed #fff;\n",
      "}\n",
      "#FfFdF8\n",
      "#aef\n",
      "#f9f9f9\n",
      "#fff\n",
      "#ABC\n",
      "#fff\n"
     ]
    }
   ],
   "source": [
    "n = input()\n",
    "\n",
    "a = []\n",
    "for i in range(int(n)): \n",
    "\n",
    "    line = input()\n",
    "\n",
    "    z = re.findall(r\".(#[0-9A-Fa-f]{6}|#[0-9A-Fa-f]{3})\",line)\n",
    "    a.extend(z)\n",
    "\n",
    "for i in a:\n",
    "    print(i)\n"
   ]
  },
  {
   "cell_type": "markdown",
   "metadata": {},
   "source": [
    "# Question 11"
   ]
  },
  {
   "cell_type": "markdown",
   "metadata": {},
   "source": [
    "A valid postal code P have to fullfil both below requirements:\n",
    "\n",
    "P must be a number in the range from 100000 to 999999 inclusive.\n",
    "P must not contain more than one alternating repetitive digit pair.\n",
    "Alternating repetitive digits are digits which repeat immediately after the next digit. In other words, an alternating repetitive digit pair is formed by two equal digits that have just a single digit between them.\n",
    "\n",
    "(bool(re.match(regex_integer_in_range, P)) \n",
    "and len(re.findall(regex_alternating_repetitive_digit_pair, P)) < 2)\n",
    "\n",
    "Input Format\n",
    "\n",
    "Locked stub code in the editor reads a single string denoting p from stdin and uses provided expression and your regular expressions to validate if p is a valid postal code.\n",
    "\n",
    "Output Format\n",
    "\n",
    "You are not responsible for printing anything to stdout. Locked stub code in the editor does that.\n",
    "\n"
   ]
  },
  {
   "cell_type": "code",
   "execution_count": 2,
   "metadata": {},
   "outputs": [],
   "source": [
    "import re"
   ]
  },
  {
   "cell_type": "code",
   "execution_count": 3,
   "metadata": {},
   "outputs": [
    {
     "name": "stdout",
     "output_type": "stream",
     "text": [
      "110000\n",
      "False\n"
     ]
    }
   ],
   "source": [
    "s=input()\n",
    "print (bool(re.match(r'^[1-9][\\d]{5}$',s) and len(re.findall(r'(\\d)(?=\\d\\1)',s))<2 ))\n"
   ]
  },
  {
   "cell_type": "code",
   "execution_count": null,
   "metadata": {},
   "outputs": [],
   "source": []
  },
  {
   "cell_type": "markdown",
   "metadata": {},
   "source": [
    "# Question 12"
   ]
  },
  {
   "cell_type": "code",
   "execution_count": null,
   "metadata": {},
   "outputs": [],
   "source": [
    "ABCXYZ company has up to 100  employees.\n",
    "The company decides to create a unique identification number (UID) for each of its employees.\n",
    "The company has assigned you the task of validating all the randomly generated UIDs.\n",
    "\n",
    "A valid UID must follow the rules below:\n",
    "\n",
    "It must contain at least 2 uppercase English alphabet characters.\n",
    "It must contain at least 3 digits (0 - 9).\n",
    "It should only contain alphanumeric characters ( a-z , A - Z & 0- 9).\n",
    "No character should repeat.\n",
    "There must be exactly 10 characters in a valid UID.\n",
    "\n",
    "Input Format\n",
    "\n",
    "The first line contains an integer T, the number of test cases.\n",
    "The next T lines contains an employee's UID.\n",
    "\n",
    "Output Format\n",
    "\n",
    "For each test case, print 'Valid' if the UID is valid. Otherwise, print 'Invalid', on separate lines. Do not print the quotation marks.\n",
    "\n"
   ]
  },
  {
   "cell_type": "code",
   "execution_count": 4,
   "metadata": {},
   "outputs": [
    {
     "name": "stdout",
     "output_type": "stream",
     "text": [
      "2\n",
      "B1CD102354\n",
      "Invalid\n",
      "B1CDEF2354\n",
      "Valid\n"
     ]
    }
   ],
   "source": [
    "import re\n",
    "Upper=r'[A-Z]'\n",
    "Digits=r'[0-9]'\n",
    "Alnum=r'[A-Za-z0-9]{10}'\n",
    "n=int(input())\n",
    "for i in range(n):\n",
    "    s=input()\n",
    "    count1=len(re.findall(Upper,s))\n",
    "    count2=len(re.findall(Digits,s))\n",
    "    if len(set(s))==10 and re.match(Alnum,s) and count1>=2 and count2>=3:\n",
    "            print('Valid')\n",
    "    else:\n",
    "        print('Invalid')\n"
   ]
  },
  {
   "cell_type": "markdown",
   "metadata": {},
   "source": [
    "# Question 13"
   ]
  },
  {
   "cell_type": "raw",
   "metadata": {},
   "source": [
    "HtML-1\n",
    "\n",
    "You are given an HTML code snippet of N lines.\n",
    "Your task is to print start tags, end tags and empty tags separately.\n",
    "\n",
    "Format your results in the following way:\n",
    "\n",
    "Start : Tag1\n",
    "End   : Tag1\n",
    "Start : Tag2\n",
    "-> Attribute2[0] > Attribute_value2[0]\n",
    "-> Attribute2[1] > Attribute_value2[1]\n",
    "-> Attribute2[2] > Attribute_value2[2]\n",
    "Start : Tag3\n",
    "-> Attribute3[0] > None\n",
    "Empty : Tag4\n",
    "-> Attribute4[0] > Attribute_value4[0]\n",
    "End   : Tag3\n",
    "End   : Tag2\n",
    "Here, the -> symbol indicates that the tag contains an attribute. It is immediately followed by the name of the attribute and the attribute value.\n",
    "The > symbol acts as a separator of the attribute and the attribute value.\n",
    "\n",
    "If an HTML tag has no attribute then simply print the name of the tag.\n",
    "If an attribute has no attribute value then simply print the name of the attribute value as None.\n",
    "\n",
    "Note: Do not detect any HTML tag, attribute or attribute value inside the HTML comment tags (<!-- Comments -->).Comments can be multiline as well.\n",
    "\n",
    "Input Format\n",
    "\n",
    "The first line contains integer N, the number of lines in a HTML code snippet.\n",
    "The next N lines contain HTML code.\n",
    "\n",
    "Output Format\n",
    "\n",
    "Print the HTML tags, attributes and attribute values in order of their occurrence from top to bottom in the given snippet.\n",
    "\n",
    "Use proper formatting as explained in the problem statement.\n",
    "\n",
    "\n",
    "\n"
   ]
  },
  {
   "cell_type": "code",
   "execution_count": 1,
   "metadata": {},
   "outputs": [],
   "source": [
    "import re"
   ]
  },
  {
   "cell_type": "code",
   "execution_count": 2,
   "metadata": {},
   "outputs": [
    {
     "name": "stdout",
     "output_type": "stream",
     "text": [
      "2\n",
      "<html><head><title>HTML Parser - I</title></head>\n",
      "<body data-modal-target class='1'><h1>HackerRank</h1><br /></body></html>\n",
      "Start : html\n",
      "Start : head\n",
      "Start : title\n",
      "End   : title\n",
      "End   : head\n",
      "Start : body\n",
      "-> data-modal-target > None\n",
      "-> class > 1\n",
      "Start : h1\n",
      "End   : h1\n",
      "Empty : br\n",
      "End   : body\n",
      "End   : html\n"
     ]
    }
   ],
   "source": [
    "\n",
    "from html.parser import HTMLParser\n",
    "class MyHTMLParser(HTMLParser):\n",
    "    def handle_starttag(self, tag, attrs):        \n",
    "        print ('Start :',tag)\n",
    "        for ele in attrs:\n",
    "            print ('->',ele[0],'>',ele[1])\n",
    "            \n",
    "    def handle_endtag(self, tag):\n",
    "        print ('End   :',tag)\n",
    "        \n",
    "    def handle_startendtag(self, tag, attrs):\n",
    "        print ('Empty :',tag)\n",
    "        for ele in attrs:\n",
    "            print ('->',ele[0],'>',ele[1])\n",
    "            \n",
    "MyParser = MyHTMLParser()\n",
    "MyParser.feed(''.join([input().strip() for _ in range(int(input()))]))\n",
    "\n",
    "\n"
   ]
  },
  {
   "cell_type": "markdown",
   "metadata": {},
   "source": [
    "# Question 14"
   ]
  },
  {
   "cell_type": "raw",
   "metadata": {},
   "source": [
    "HTML -2\n",
    "\n",
    "You are given an HTML code snippet of N lines.\n",
    "Your task is to print the single-line comments, multi-line comments and the data.\n",
    "\n",
    "Print the result in the following format:\n",
    "    \n",
    "    >>> Single-line Comment  \n",
    "Comment\n",
    ">>> Data                 \n",
    "My Data\n",
    ">>> Multi-line Comment  \n",
    "Comment_multiline[0]\n",
    "Comment_multiline[1]\n",
    ">>> Data\n",
    "My Data\n",
    ">>> Single-line Comment:  \n",
    "Note: Do not print data if data == '\\n'.\n",
    "\n",
    "Input Format\n",
    "\n",
    "The first line contains integer , the number of lines in the HTML code snippet.\n",
    "The next  lines contains HTML code.\n",
    "\n",
    "Output Format\n",
    "\n",
    "Print the single-line comments, multi-line comments and the data in order of their occurrence from top to bottom in the snippet.\n"
   ]
  },
  {
   "cell_type": "code",
   "execution_count": 5,
   "metadata": {},
   "outputs": [
    {
     "name": "stdout",
     "output_type": "stream",
     "text": [
      "4\n",
      "<!--[if IE 9]>IE9-specific content\n",
      "<![endif]-->\n",
      "<div> Welcome to HackerRank</div>\n",
      "<!--[if IE 9]>IE9-specific content<![endif]-->\n",
      ">>> Multi-line Comment\n",
      "[if IE 9]>IE9-specific content\n",
      "<![endif]\n",
      ">>> Data\n",
      " Welcome to HackerRank\n",
      ">>> Single-line Comment\n",
      "[if IE 9]>IE9-specific content<![endif]\n"
     ]
    }
   ],
   "source": [
    "from html.parser import HTMLParser\n",
    "\n",
    "class MyHTMLParser(HTMLParser):\n",
    "    def handle_comment(self, data):\n",
    "        \n",
    "        if '\\n' in data:\n",
    "            print('>>> Multi-line Comment')\n",
    "            print(data)\n",
    "        else:\n",
    "            print('>>> Single-line Comment')\n",
    "            print(data)\n",
    "\n",
    "    def handle_data(self, data):\n",
    "        if '\\n' not in data:\n",
    "            print(\">>> Data\")\n",
    "            print(data)\n",
    "            \n",
    "html = ''       \n",
    "for i in range(int(input())):\n",
    "    html += input().rstrip()\n",
    "    html += '\\n'\n",
    "\n",
    "parser = MyHTMLParser()\n",
    "parser.feed(html)\n",
    "parser.close()\n",
    "\n"
   ]
  },
  {
   "cell_type": "markdown",
   "metadata": {},
   "source": [
    "# Question 15"
   ]
  },
  {
   "cell_type": "raw",
   "metadata": {},
   "source": [
    "You are given an HTML code snippet of N lines.\n",
    "Your task is to detect and print all the HTML tags, attributes and attribute values.\n",
    "\n",
    "Print the detected items in the following format:\n",
    "    \n",
    "Tag1\n",
    "Tag2\n",
    "-> Attribute2[0] > Attribute_value2[0]\n",
    "-> Attribute2[1] > Attribute_value2[1]\n",
    "-> Attribute2[2] > Attribute_value2[2]\n",
    "Tag3\n",
    "-> Attribute3[0] > Attribute_value3[0]\n",
    "\n",
    "\n",
    "The -> symbol indicates that the tag contains an attribute. It is immediately followed by the name of the attribute and the attribute value.\n",
    "The > symbol acts as a separator of attributes and attribute values.\n",
    "\n",
    "If an HTML tag has no attribute then simply print the name of the tag.\n",
    "\n",
    "Note: Do not detect any HTML tag, attribute or attribute value inside the HTML comment tags (<!-- Comments -->). Comments can be multiline.\n",
    "All attributes have an attribute value.\n",
    "      \n",
    "    \n",
    "Input Format\n",
    "\n",
    "The first line contains an integer , the number of lines in the HTML code snippet.\n",
    "The next  lines contain HTML code.\n",
    "\n",
    "Output Format\n",
    "\n",
    "Print the HTML tags, attributes and attribute values in order of their occurrence from top to bottom in the snippet.\n",
    "\n",
    "Format your answers as explained in the problem statement.\n",
    "\n",
    "\n",
    "\n"
   ]
  },
  {
   "cell_type": "code",
   "execution_count": null,
   "metadata": {},
   "outputs": [],
   "source": [
    "from html.parser import HTMLParser\n",
    "\n",
    "class MyHTMLParser(HTMLParser):\n",
    "    def handle_starttag(self, tag, attrs):\n",
    "        print(tag)\n",
    "        for attr in attrs:\n",
    "            print(\"->\", attr[0], \">\", attr[1])\n",
    "\n",
    "parser = MyHTMLParser()\n",
    "\n",
    "for i in range(int(input())):\n",
    "    parser.feed(input())\n"
   ]
  },
  {
   "cell_type": "markdown",
   "metadata": {},
   "source": [
    "# Question 16"
   ]
  },
  {
   "cell_type": "raw",
   "metadata": {},
   "source": [
    "matrix script\n",
    "\n",
    "Neo has a complex matrix script. The matrix script is a  NXM  grid of strings. It consists of alphanumeric characters, spaces and symbols (!,@,#,$,%,&).\n",
    "\n",
    "To decode the script, Neo needs to read each column and select only the alphanumeric characters and connect them. Neo reads the column from top to bottom and starts reading from the leftmost column.\n",
    "\n",
    "If there are symbols or spaces between two alphanumeric characters of the decoded script, then Neo replaces them with a single space '' for better readability.\n",
    "\n",
    "Neo feels that there is no need to use 'if' conditions for decoding.\n",
    "\n",
    "Alphanumeric characters consist of: [A-Z, a-z, and 0-9].\n",
    "\n",
    "Input Format\n",
    "\n",
    "The first line contains space-separated integers  (rows)N and M(columns) respectively.\n",
    "The next N lines contain the row elements of the matrix script.\n",
    "\n",
    "Output                                                                                                                                           \n",
    "\n",
    "Print the decoded matrix script.\n",
    "\n",
    "\n"
   ]
  },
  {
   "cell_type": "code",
   "execution_count": 3,
   "metadata": {},
   "outputs": [
    {
     "name": "stdout",
     "output_type": "stream",
     "text": [
      "7 3\n",
      "Tsi\n",
      "h%x\n",
      "i #\n",
      "sM\n",
      "$a\n",
      "#t%\n",
      "ir!\n",
      "['Tsi', 'h%x', 'i #', 'sM', '$a', '#t%', 'ir!']\n",
      "[('T', 'h', 'i', 's', '$', '#', 'i'), ('s', '%', ' ', 'M', 'a', 't', 'r')]\n",
      "This$#is% Matr\n",
      "This is Matr\n"
     ]
    }
   ],
   "source": [
    "import re\n",
    "\n",
    "\n",
    "n, m = map(int, input().split())\n",
    "a, b = [], \"\"\n",
    "for i in range(n):\n",
    "    a.append(input())\n",
    "print(a)    \n",
    "\n",
    "l = list(zip(*a))\n",
    "print(l)\n",
    "\n",
    "for i in l:\n",
    "    b=b+''.join(i)\n",
    "b= ''    \n",
    "    \n",
    "for i in l:\n",
    "    b=b+''.join(i)\n",
    "    \n",
    "print(b)\n",
    "   \n",
    "pattren = r'\\b[^a-zA-Z0-9]+\\b'\n",
    "\n",
    "output = re.sub(pattren,' ',b)\n",
    "\n",
    "print(output)\n",
    "\n",
    "\n",
    "\n",
    "    "
   ]
  },
  {
   "cell_type": "code",
   "execution_count": 12,
   "metadata": {},
   "outputs": [
    {
     "name": "stdout",
     "output_type": "stream",
     "text": [
      "7 3\n",
      "Tsi\n",
      "h%x\n",
      "i #\n",
      "sM      \n",
      "$a    \n",
      "#t%\n",
      "ir!\n",
      "This is Matrix#  %!\n"
     ]
    }
   ],
   "source": [
    "first_multiple_input = input().rstrip().split()\n",
    "\n",
    "n = int(first_multiple_input[0])\n",
    "\n",
    "m = int(first_multiple_input[1])\n",
    "\n",
    "matrix = []\n",
    "\n",
    "for _ in range(n):\n",
    "    matrix_item = input()\n",
    "    matrix.append(matrix_item)\n",
    "    \n",
    "new = ''\n",
    "for i in range(0,m):\n",
    "    for j in range(0,n):\n",
    "        new = new + matrix[j][i]\n",
    "        \n",
    "        \n",
    "pattren = r'\\b[^a-zA-Z0-9]+\\b'\n",
    "\n",
    "output = re.sub(pattren,' ',new)\n",
    "\n",
    "print(output)       \n"
   ]
  },
  {
   "cell_type": "markdown",
   "metadata": {},
   "source": [
    "# Question 17"
   ]
  },
  {
   "cell_type": "markdown",
   "metadata": {},
   "source": [
    "first occurance\n",
    "\n",
    "You are given a string S .\n",
    "Your task is to find the first occurrence of an alphanumeric character in S (read from left to right) that has consecutive repetitions.\n",
    "\n",
    "Input Format\n",
    "\n",
    "A single line of input containing the string S.\n",
    "\n",
    "Output Format\n",
    "\n",
    "Print the first occurrence of the repeating character. If there are no repeating characters, print -1.\n"
   ]
  },
  {
   "cell_type": "code",
   "execution_count": 17,
   "metadata": {},
   "outputs": [],
   "source": [
    "import re"
   ]
  },
  {
   "cell_type": "code",
   "execution_count": 13,
   "metadata": {},
   "outputs": [
    {
     "name": "stdout",
     "output_type": "stream",
     "text": [
      "..12345678910111213141516171820212223\n",
      "1\n"
     ]
    }
   ],
   "source": [
    "s = input()\n",
    "pattren = re.search(r'([a-zA-Z0-9])\\1',s)\n",
    "if pattren :\n",
    "    print(pattren.group(1))\n",
    "else:\n",
    "    print('-1')\n"
   ]
  },
  {
   "cell_type": "code",
   "execution_count": 41,
   "metadata": {},
   "outputs": [
    {
     "data": {
      "text/plain": [
       "'1'"
      ]
     },
     "execution_count": 41,
     "metadata": {},
     "output_type": "execute_result"
    }
   ],
   "source": [
    "pattren.group(1)"
   ]
  },
  {
   "cell_type": "code",
   "execution_count": null,
   "metadata": {},
   "outputs": [],
   "source": []
  }
 ],
 "metadata": {
  "kernelspec": {
   "display_name": "Python 3",
   "language": "python",
   "name": "python3"
  },
  "language_info": {
   "codemirror_mode": {
    "name": "ipython",
    "version": 3
   },
   "file_extension": ".py",
   "mimetype": "text/x-python",
   "name": "python",
   "nbconvert_exporter": "python",
   "pygments_lexer": "ipython3",
   "version": "3.8.5"
  }
 },
 "nbformat": 4,
 "nbformat_minor": 4
}
