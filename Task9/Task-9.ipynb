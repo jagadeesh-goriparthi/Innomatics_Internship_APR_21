{
 "cells": [
  {
   "cell_type": "code",
   "execution_count": 3,
   "metadata": {},
   "outputs": [],
   "source": [
    "import warnings\n",
    "warnings.filterwarnings('ignore')\n",
    "\n",
    "from IPython.core.interactiveshell import InteractiveShell\n",
    "InteractiveShell.ast_node_interactivity = 'all'\n",
    "\n",
    "import numpy as np\n",
    "import statistics as sts\n",
    "from scipy import stats\n",
    "import math\n",
    "from scipy.stats import norm\n",
    "\n",
    "import matplotlib.pyplot as plt\n",
    "import seaborn as sns\n",
    "%matplotlib inline\n",
    "sns.set_style('darkgrid')\n",
    "from scipy.stats import t"
   ]
  },
  {
   "cell_type": "markdown",
   "metadata": {},
   "source": [
    "# T-score"
   ]
  },
  {
   "cell_type": "code",
   "execution_count": 4,
   "metadata": {},
   "outputs": [],
   "source": [
    "# caluculating the T-test\n",
    "\n",
    "def t_score(sample_mean,pop_mean,sample_std,n):\n",
    "    numarator = sample_mean-pop_mean\n",
    "    denominator = sample_std/math.sqrt(n)\n",
    "    t_score = numarator/denominator\n",
    "    return(t_score)"
   ]
  },
  {
   "cell_type": "markdown",
   "metadata": {},
   "source": [
    "Step - 1:    \n",
    "    Alternate Hypothesis (Bold claim): $ H_1\\ \\Rightarrow \\ >, \\ < , \\ \\neq $    \n",
    "Null Hypothesis (Status Quo): $ H_0 \\ \\Rightarrow \\ \\leq, \\ \\geq, \\ = $     \n",
    "\n",
    "Step - 2:\n",
    "\n",
    "- Collect a sample of size n    \n",
    "- Compute the mean from this sample $ \\bar{x} $ \n",
    "\n",
    "Step - 3:\n",
    "- Compute Test Statistic:     \n",
    "    $$ Z = \\frac {\\overline x - \\mu}{\\sigma/ \\sqrt(n)} $$\n",
    "\n",
    "- If population variance is known\n",
    "$$ t = \\frac {\\overline x - \\mu}{s/ \\sqrt(n)} $$\n",
    "\n",
    "step-4 :\n",
    "- Decide significance level $ \\alpha $. Lower $ \\alpha $ means you need stronger evidence to reject Null Hypothesis. calculate $ z-critical\\ (z_{\\frac{\\alpha}{2}})\\ or \\ t-critical \\ (t_{n-1,\\frac{\\alpha}{2}} $\n",
    "\n",
    "step-5 :\n",
    "\n",
    "Step - 5.1: Apply decision rule:\n",
    "\n",
    "- If test statistic is z-score -\n",
    "  - Two tailed z-test: $$ |z|\\ > \\ z_{\\frac{\\alpha}{2}} \\Rightarrow \\ Accept \\ H_1 or \\ Reject \\ H_0 $$\n",
    "  - Right tailed z-test:$$ z\\ > \\ z_{\\alpha} \\Rightarrow Accept \\ H_1 \\ or \\ Reject \\ H_0 $$\n",
    "   - Left tailed z-test:$$ z\\ < \\ -z_{\\alpha} \\Rightarrow Accept \\ H_1 \\ or \\ Reject \\ H_0 $$\n",
    "   \n",
    "- If test statistic is t-score\n",
    "  - Two tailed t-test: $$ |t|\\ > \\ t_{n-1,\\frac{\\alpha}{2}} \\Rightarrow \\ Accept \\ H_1 or \\ Reject \\ H_0 $$\n",
    "  - Right tailed t-test:$$ t\\ > \\ t_{n-1,\\alpha} \\Rightarrow Accept \\ H_1 \\ or \\ Reject \\ H_0 $$\n",
    "  - Left tailed t-test:$$ t\\ < \\ t_{n-1,\\alpha} \\Rightarrow Accept \\ H_1 \\ or \\ Reject \\ H_0 $$\n",
    "  \n",
    "Step - 5.2: Compute p-value $ P(Test \\ Statistics | H_0) $\n",
    "\n",
    "For two tailed test:$$ p \\ value = 2 * (1.0 - cdf(test \\ statistic)) $$\n",
    "For one tailed test:$$ p \\ value = (1.0 - cdf(test \\ statistic)) $$\n",
    "\n",
    "Now,   \n",
    "   $$ if (p \\ value < \\alpha) \\Rightarrow Accept \\ H_1 \\ or \\ Reject \\ H_0 $$\n"
   ]
  },
  {
   "cell_type": "markdown",
   "metadata": {},
   "source": [
    "## Question 1\n",
    "Pista House selling Hyderabadi Chicken Dum biryani claims that each parcel packet has 500 grams of biryani (also mentioned on the label of packet). You are sceptic of their claims and believe that on average each packet does not contain 500 grams of biryani. How do you prove your claim? \n"
   ]
  },
  {
   "cell_type": "markdown",
   "metadata": {},
   "source": [
    "### step 1\n",
    "\n",
    "Alternative Hypothesis :\n",
    "\n",
    "$H_1$ : On average each packet does not contain 500 grams of biryani.    (p!==500)\n",
    "\n",
    "Null Hypothesis :\n",
    "\n",
    "$H_0$ : On average each packet contain 500 grams of biryani"
   ]
  },
  {
   "cell_type": "markdown",
   "metadata": {},
   "source": [
    "### step 2 "
   ]
  },
  {
   "cell_type": "code",
   "execution_count": 5,
   "metadata": {},
   "outputs": [],
   "source": [
    "#Given\n",
    "\n",
    "pop_mean = 500"
   ]
  },
  {
   "cell_type": "markdown",
   "metadata": {},
   "source": [
    "$$ T-score = \\frac {\\overline x - \\mu}{s/ \\sqrt(n)} $$"
   ]
  },
  {
   "cell_type": "code",
   "execution_count": 6,
   "metadata": {},
   "outputs": [],
   "source": [
    "sample = np.array([490, 220, 470, 500, 495, 496, 496, 498, 508, 480])\n",
    "sample_mean = np.mean(sample)\n",
    "sample_std = np.std(sample,ddof=1)\n",
    "n = len(sample)\n",
    "pop_mean = 500"
   ]
  },
  {
   "cell_type": "markdown",
   "metadata": {},
   "source": [
    "### step 3 : statistics testing"
   ]
  },
  {
   "cell_type": "code",
   "execution_count": 5,
   "metadata": {},
   "outputs": [],
   "source": [
    "t_stat = t_score(sample_mean,pop_mean,sample_std,n)"
   ]
  },
  {
   "cell_type": "code",
   "execution_count": 6,
   "metadata": {},
   "outputs": [
    {
     "name": "stdout",
     "output_type": "stream",
     "text": [
      "-1.263475128444671\n"
     ]
    }
   ],
   "source": [
    "print(t_stat)"
   ]
  },
  {
   "cell_type": "markdown",
   "metadata": {},
   "source": [
    "### step 4 :  "
   ]
  },
  {
   "cell_type": "markdown",
   "metadata": {},
   "source": [
    "$$t_{critical} = t_{ n-1,\\frac{\\alpha}{2} }$$"
   ]
  },
  {
   "cell_type": "code",
   "execution_count": 7,
   "metadata": {},
   "outputs": [],
   "source": [
    "# defineing the alpha and caluculating T-critical\n",
    "# Two tailed test\n",
    "\n",
    "\n",
    "confidence_level = 0.95\n",
    "df = n-1\n",
    "\n",
    "alpha = 1-confidence_level\n",
    "\n",
    "t_critical = t.ppf(1-alpha/2,df =df)\n"
   ]
  },
  {
   "cell_type": "code",
   "execution_count": 8,
   "metadata": {},
   "outputs": [
    {
     "data": {
      "text/plain": [
       "2.2621571627409915"
      ]
     },
     "execution_count": 8,
     "metadata": {},
     "output_type": "execute_result"
    }
   ],
   "source": [
    "t_critical"
   ]
  },
  {
   "cell_type": "markdown",
   "metadata": {},
   "source": [
    "### step 5"
   ]
  },
  {
   "cell_type": "code",
   "execution_count": 9,
   "metadata": {},
   "outputs": [
    {
     "name": "stdout",
     "output_type": "stream",
     "text": [
      "Failed to reject the null hypothasis \n"
     ]
    }
   ],
   "source": [
    "if (abs(t_stat)>t_critical) : \n",
    "    print('Reject the null hypothasis')\n",
    "else:\n",
    "    print('Failed to reject the null hypothasis ')"
   ]
  },
  {
   "cell_type": "code",
   "execution_count": 10,
   "metadata": {},
   "outputs": [
    {
     "name": "stdout",
     "output_type": "stream",
     "text": [
      "p_value =  1.761835294146723\n",
      "Fail to reject Null Hypothesis\n"
     ]
    }
   ],
   "source": [
    "# Conclusion using p test\n",
    "\n",
    "p_value = 2*(1 - t.cdf(t_stat,df=df))\n",
    "\n",
    "print(\"p_value = \", p_value)\n",
    "\n",
    "if(p_value < alpha):\n",
    "    print(\"Reject Null Hypothesis\")\n",
    "else:\n",
    "    print(\"Fail to reject Null Hypothesis\")\n"
   ]
  },
  {
   "cell_type": "code",
   "execution_count": 11,
   "metadata": {},
   "outputs": [],
   "source": [
    "# Ploting the sampling distribution with rejection regions\n",
    "x_min = 300\n",
    "x_max = 800\n",
    "\n",
    "# Defining the sampling distribution mean and sampling distribution std\n",
    "mean = pop_mean\n",
    "std = sample_std \n",
    "\n"
   ]
  },
  {
   "cell_type": "code",
   "execution_count": 29,
   "metadata": {},
   "outputs": [
    {
     "data": {
      "text/plain": [
       "(300.0, 800.0)"
      ]
     },
     "execution_count": 29,
     "metadata": {},
     "output_type": "execute_result"
    },
    {
     "data": {
      "text/plain": [
       "[<matplotlib.lines.Line2D at 0x268dcfff880>]"
      ]
     },
     "execution_count": 29,
     "metadata": {},
     "output_type": "execute_result"
    },
    {
     "data": {
      "text/plain": [
       "<matplotlib.collections.PolyCollection at 0x268dcfffc70>"
      ]
     },
     "execution_count": 29,
     "metadata": {},
     "output_type": "execute_result"
    },
    {
     "data": {
      "text/plain": [
       "<matplotlib.collections.PolyCollection at 0x268dcffff40>"
      ]
     },
     "execution_count": 29,
     "metadata": {},
     "output_type": "execute_result"
    },
    {
     "data": {
      "text/plain": [
       "<matplotlib.collections.PathCollection at 0x268dd00c280>"
      ]
     },
     "execution_count": 29,
     "metadata": {},
     "output_type": "execute_result"
    },
    {
     "data": {
      "text/plain": [
       "Text(465.3, 0.0007, 'x_bar')"
      ]
     },
     "execution_count": 29,
     "metadata": {},
     "output_type": "execute_result"
    },
    {
     "data": {
      "image/png": "[encoded data removed]",
      "text/plain": [
       "<Figure size 432x288 with 1 Axes>"
      ]
     },
     "metadata": {},
     "output_type": "display_data"
    }
   ],
   "source": [
    "# Ploting the graph and setting the x limits\n",
    "x = np.linspace(x_min, x_max, 100)\n",
    "y = t.pdf(x,df,mean,std)\n",
    "plt.xlim(x_min, x_max)\n",
    "plt.plot(x, y)\n",
    "\n",
    "# Computing the left and right critical values (Two tailed Test)\n",
    "t_critical_left = pop_mean + (-t_critical * std)\n",
    "t_critical_right = pop_mean + (t_critical * std)\n",
    "\n",
    "x1 = np.linspace(x_min, t_critical_left, 100)\n",
    "y1 = t.pdf(x1,df, mean, std)\n",
    "plt.fill_between(x1, y1, color='orange')\n",
    "\n",
    "# Shading the right rejection region\n",
    "x2 = np.linspace(t_critical_right,x_max,100)\n",
    "y2 = t.pdf(x2,df, mean, std)\n",
    "plt.fill_between(x2, y2, color='orange')\n",
    "\n",
    "# Ploting the sample mean and concluding the results \n",
    "plt.scatter(sample_mean, 0)\n",
    "plt.annotate(\"x_bar\", (sample_mean, 0.0007))\n",
    "\n"
   ]
  },
  {
   "cell_type": "markdown",
   "metadata": {},
   "source": [
    "## Question 2 \n",
    "You have developed a new Natural Language Processing Algorithms and done a user study. You claim that the average rating given by the users is greater than 4 on a scale of 1 to 5. How do you prove this to your client?"
   ]
  },
  {
   "cell_type": "markdown",
   "metadata": {},
   "source": [
    "### step 1\n",
    "$$H_1 =    p>4(altternative  hypothasis,blod claim)    $$\n",
    "\n",
    "$$H_O   =  p\\underline<4 (null hypo)$$"
   ]
  },
  {
   "cell_type": "markdown",
   "metadata": {},
   "source": [
    "### step 2"
   ]
  },
  {
   "cell_type": "markdown",
   "metadata": {},
   "source": [
    "![sample](https://render.githubusercontent.com/render/math?math=%5B4%2C%203%2C%205%2C%204%2C%205%2C%203%2C%205%2C%205%2C%204%2C%202%2C%204%2C%205%2C%205%2C%204%2C%204%2C%205%2C%204%2C%205%2C%204%2C%205%5D&mode=display)"
   ]
  },
  {
   "cell_type": "markdown",
   "metadata": {},
   "source": [
    "# step-2"
   ]
  },
  {
   "cell_type": "code",
   "execution_count": 31,
   "metadata": {},
   "outputs": [],
   "source": [
    "sample = [4,3,5,4,5,3,5,5,4,2,4,5,5,4,4,5,4,5,4,5]"
   ]
  },
  {
   "cell_type": "code",
   "execution_count": 33,
   "metadata": {},
   "outputs": [],
   "source": [
    "sample_mean = sts.mean(sample)\n",
    "sample_std = sts.stdev(sample)\n",
    "n = len(sample)\n",
    "population_mean =4"
   ]
  },
  {
   "cell_type": "markdown",
   "metadata": {},
   "source": [
    "# step-3"
   ]
  },
  {
   "cell_type": "code",
   "execution_count": 34,
   "metadata": {},
   "outputs": [],
   "source": [
    "# one tailed test\n",
    "\n",
    "t_stat = t_score(sample_mean,population_mean,sample_std,n)"
   ]
  },
  {
   "cell_type": "code",
   "execution_count": 35,
   "metadata": {},
   "outputs": [
    {
     "data": {
      "text/plain": [
       "1.3142574813455419"
      ]
     },
     "execution_count": 35,
     "metadata": {},
     "output_type": "execute_result"
    }
   ],
   "source": [
    "t_stat"
   ]
  },
  {
   "cell_type": "code",
   "execution_count": 36,
   "metadata": {},
   "outputs": [
    {
     "data": {
      "text/plain": [
       "4.25"
      ]
     },
     "execution_count": 36,
     "metadata": {},
     "output_type": "execute_result"
    }
   ],
   "source": [
    "sample_mean"
   ]
  },
  {
   "cell_type": "markdown",
   "metadata": {},
   "source": [
    "## step 4"
   ]
  },
  {
   "cell_type": "code",
   "execution_count": 37,
   "metadata": {},
   "outputs": [],
   "source": [
    "# define alpha and find t_critical\n",
    "confidence_level = 0.95 \n",
    "df = n-1\n",
    "alpha = 1-confidence_level\n",
    "t_critical = t.ppf(1-alpha,df)"
   ]
  },
  {
   "cell_type": "code",
   "execution_count": 38,
   "metadata": {},
   "outputs": [
    {
     "data": {
      "text/plain": [
       "1.729132811521367"
      ]
     },
     "execution_count": 38,
     "metadata": {},
     "output_type": "execute_result"
    }
   ],
   "source": [
    "t_critical"
   ]
  },
  {
   "cell_type": "markdown",
   "metadata": {},
   "source": [
    "### step 5"
   ]
  },
  {
   "cell_type": "code",
   "execution_count": 39,
   "metadata": {},
   "outputs": [
    {
     "name": "stdout",
     "output_type": "stream",
     "text": [
      "failed to reject the null hypothasis\n"
     ]
    }
   ],
   "source": [
    "if t_stat>t_critical:\n",
    "    print(\"reject the null hypothasis\") \n",
    "else:\n",
    "    print('failed to reject the null hypothasis')"
   ]
  },
  {
   "cell_type": "code",
   "execution_count": 40,
   "metadata": {},
   "outputs": [],
   "source": [
    "# p value \n",
    "\n",
    "p_value = 1- t.cdf(np.abs(t_stat),df =df)"
   ]
  },
  {
   "cell_type": "code",
   "execution_count": 41,
   "metadata": {},
   "outputs": [
    {
     "data": {
      "text/plain": [
       "0.10220287084734081"
      ]
     },
     "execution_count": 41,
     "metadata": {},
     "output_type": "execute_result"
    }
   ],
   "source": [
    "p_value"
   ]
  },
  {
   "cell_type": "code",
   "execution_count": 42,
   "metadata": {},
   "outputs": [
    {
     "name": "stdout",
     "output_type": "stream",
     "text": [
      "failed to reject null hypo\n"
     ]
    }
   ],
   "source": [
    "if p_value<alpha:\n",
    "    print('reject the null hy')\n",
    "else:\n",
    "    print ('failed to reject null hypo')\n"
   ]
  },
  {
   "cell_type": "code",
   "execution_count": 58,
   "metadata": {},
   "outputs": [
    {
     "data": {
      "text/plain": [
       "[<matplotlib.lines.Line2D at 0x268de572af0>]"
      ]
     },
     "execution_count": 58,
     "metadata": {},
     "output_type": "execute_result"
    },
    {
     "data": {
      "text/plain": [
       "<matplotlib.collections.PolyCollection at 0x268de572f10>"
      ]
     },
     "execution_count": 58,
     "metadata": {},
     "output_type": "execute_result"
    },
    {
     "data": {
      "text/plain": [
       "<matplotlib.collections.PathCollection at 0x268de572df0>"
      ]
     },
     "execution_count": 58,
     "metadata": {},
     "output_type": "execute_result"
    },
    {
     "data": {
      "text/plain": [
       "Text(4.25, 0.1, 'x_bar')"
      ]
     },
     "execution_count": 58,
     "metadata": {},
     "output_type": "execute_result"
    },
    {
     "data": {
      "image/png": "[encoded data removed]",
      "text/plain": [
       "<Figure size 432x288 with 1 Axes>"
      ]
     },
     "metadata": {},
     "output_type": "display_data"
    }
   ],
   "source": [
    "# define the limits\n",
    "\n",
    "x_min = 0\n",
    "x_max = 5\n",
    "\n",
    "# Defining the sampling distribution mean and sampling distribution std\n",
    "mean = population_mean\n",
    "std = sample_std\n",
    "\n",
    "\n",
    "# Computing the left and right critical values (Two tailed Test)\n",
    "x = np.linspace(x_min, x_max,100)\n",
    "y = t.pdf(x,df, mean, std)\n",
    "plt.plot(x,y)\n",
    "\n",
    "t_critical_right =mean+ t_critical*std\n",
    "\n",
    "\n",
    "\n",
    "\n",
    "# Shading the right rejection region\n",
    "x2 = np.linspace(t_critical_right,x_max,100)\n",
    "y2 = t.pdf(x2,df, mean, std)\n",
    "plt.fill_between(x2, y2, color='orange')\n",
    "\n",
    "\n",
    "plt.scatter(sample_mean, 0)\n",
    "plt.annotate(\"x_bar\", (sample_mean, 0.1))\n",
    "\n",
    "\n",
    "\n",
    "\n",
    "#shading the rejion"
   ]
  },
  {
   "cell_type": "markdown",
   "metadata": {},
   "source": [
    "# Question 3"
   ]
  },
  {
   "cell_type": "markdown",
   "metadata": {},
   "source": [
    "Q-3: TATA has developed a better fuel management system for the SUV segment. They claim that with this system, on average the SUV's mileage is at least 15 km/litre? (Given that the population std is 1)\n",
    "\n"
   ]
  },
  {
   "cell_type": "markdown",
   "metadata": {},
   "source": [
    "### step 1\n",
    "- Defining hypothasis\n",
    "\n",
    "$$H_1 =    p>15(altternative  hypothasis,blod claim)    $$\n",
    "\n",
    "$$H_O   =  p\\leq15 (null hypo)$$"
   ]
  },
  {
   "cell_type": "markdown",
   "metadata": {},
   "source": [
    "### Step 2"
   ]
  },
  {
   "cell_type": "code",
   "execution_count": 103,
   "metadata": {},
   "outputs": [],
   "source": [
    "# population mean\n",
    "\n",
    "pop_mean = 15\n"
   ]
  },
  {
   "attachments": {
    "math.svg": {
     "image/svg+xml": [
      "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"
     ]
    }
   },
   "cell_type": "markdown",
   "metadata": {},
   "source": [
    "![math.svg](attachment:math.svg)"
   ]
  },
  {
   "cell_type": "code",
   "execution_count": 170,
   "metadata": {},
   "outputs": [],
   "source": [
    "sample = [14.08,14.13,15.65,13.78,14.97,15.36,15.81,14.53,16.79,15.78,16.98,13.23,15.43,15.46,13.88,14.31,14.41,15.76,15.38]"
   ]
  },
  {
   "cell_type": "code",
   "execution_count": 171,
   "metadata": {},
   "outputs": [],
   "source": [
    "sample_mean =sts.mean(sample)\n",
    "sample_std= sts.stdev(sample)\n",
    "n = len(sample)"
   ]
  },
  {
   "cell_type": "code",
   "execution_count": 172,
   "metadata": {},
   "outputs": [
    {
     "data": {
      "text/plain": [
       "15.037894736842105"
      ]
     },
     "execution_count": 172,
     "metadata": {},
     "output_type": "execute_result"
    }
   ],
   "source": [
    "sample_mean"
   ]
  },
  {
   "cell_type": "markdown",
   "metadata": {},
   "source": [
    "### step 3"
   ]
  },
  {
   "cell_type": "code",
   "execution_count": 107,
   "metadata": {},
   "outputs": [],
   "source": [
    "# one tailed test\n",
    "\n",
    "t_stat = t_score(sample_mean,pop_mean,sample_std,n)"
   ]
  },
  {
   "cell_type": "code",
   "execution_count": 108,
   "metadata": {},
   "outputs": [
    {
     "data": {
      "text/plain": [
       "0.16268007704402773"
      ]
     },
     "execution_count": 108,
     "metadata": {},
     "output_type": "execute_result"
    }
   ],
   "source": [
    "t_stat"
   ]
  },
  {
   "cell_type": "markdown",
   "metadata": {},
   "source": [
    "### step 4"
   ]
  },
  {
   "cell_type": "code",
   "execution_count": 109,
   "metadata": {},
   "outputs": [],
   "source": [
    "# One Tail\n",
    "\n",
    "confidence_level = 0.95\n",
    "\n",
    "alpha = 1 - confidence_level\n",
    "df = n-1\n",
    "t_critical= t.ppf(1-alpha,df)"
   ]
  },
  {
   "cell_type": "code",
   "execution_count": 110,
   "metadata": {},
   "outputs": [],
   "source": [
    "t_critical= t.ppf(1-alpha,df)"
   ]
  },
  {
   "cell_type": "code",
   "execution_count": 111,
   "metadata": {},
   "outputs": [
    {
     "data": {
      "text/plain": [
       "1.7340636066175354"
      ]
     },
     "execution_count": 111,
     "metadata": {},
     "output_type": "execute_result"
    }
   ],
   "source": [
    "t_critical"
   ]
  },
  {
   "cell_type": "markdown",
   "metadata": {},
   "source": [
    "### step 5"
   ]
  },
  {
   "cell_type": "code",
   "execution_count": 112,
   "metadata": {},
   "outputs": [
    {
     "name": "stdout",
     "output_type": "stream",
     "text": [
      "Failed to reject Null Hypothesis\n"
     ]
    }
   ],
   "source": [
    "if (t_stat>t_critical):\n",
    "    print('Reject the Null Hypothesis')\n",
    "else:\n",
    "    print('Failed to reject Null Hypothesis')"
   ]
  },
  {
   "cell_type": "code",
   "execution_count": 113,
   "metadata": {},
   "outputs": [
    {
     "name": "stdout",
     "output_type": "stream",
     "text": [
      "p_value =  0.4362913650833504\n",
      "Fail to reject Null Hypothesis\n"
     ]
    }
   ],
   "source": [
    "# One tail\n",
    "\n",
    "p_value = 1.0 - t.cdf(t_stat,df=df)\n",
    "print(\"p_value = \", p_value)\n",
    "\n",
    "if(p_value < alpha):\n",
    "    print(\"Reject Null Hypothesis\")\n",
    "else:\n",
    "    print(\"Fail to reject Null Hypothesis\")\n",
    "\n"
   ]
  },
  {
   "cell_type": "code",
   "execution_count": 114,
   "metadata": {},
   "outputs": [],
   "source": [
    "x_min = 10\n",
    "x_max = 20\n",
    "\n",
    "mean= pop_mean\n",
    "std = sample_std"
   ]
  },
  {
   "cell_type": "code",
   "execution_count": 115,
   "metadata": {
    "scrolled": true
   },
   "outputs": [
    {
     "data": {
      "text/plain": [
       "[<matplotlib.lines.Line2D at 0x268decb64f0>]"
      ]
     },
     "execution_count": 115,
     "metadata": {},
     "output_type": "execute_result"
    },
    {
     "data": {
      "text/plain": [
       "<matplotlib.collections.PolyCollection at 0x268decb6850>"
      ]
     },
     "execution_count": 115,
     "metadata": {},
     "output_type": "execute_result"
    },
    {
     "data": {
      "text/plain": [
       "<matplotlib.collections.PathCollection at 0x268decb6700>"
      ]
     },
     "execution_count": 115,
     "metadata": {},
     "output_type": "execute_result"
    },
    {
     "data": {
      "text/plain": [
       "Text(15.037894736842105, 0.1, 'x_bar')"
      ]
     },
     "execution_count": 115,
     "metadata": {},
     "output_type": "execute_result"
    },
    {
     "data": {
      "image/png": "[encoded data removed]",
      "text/plain": [
       "<Figure size 432x288 with 1 Axes>"
      ]
     },
     "metadata": {},
     "output_type": "display_data"
    }
   ],
   "source": [
    "x= np.linspace(x_min,x_max,100)\n",
    "y = t.pdf(x,df,mean,std)\n",
    "plt.plot(x,y)\n",
    "\n",
    "t_critical_right = mean+(t_critical)*std\n",
    "\n",
    "#shading the rejected rejion(right)\n",
    "\n",
    "x2= np.linspace(t_critical_right,x_max,100)\n",
    "y2 = t.pdf(x2,df,mean,std)\n",
    "plt.fill_between(x2,y2,color='orange')\n",
    "\n",
    "plt.scatter(sample_mean,0)\n",
    "plt.annotate(\"x_bar\", (sample_mean, 0.1))\n",
    "\n",
    "\n"
   ]
  },
  {
   "cell_type": "markdown",
   "metadata": {},
   "source": [
    "# Question 4\n",
    "Q-4: You have developed a new Machine Learning Application and claim that on average it takes less than 100 ms to predict for any future datapoint. How do you convince your client about this claim? \n",
    "\n"
   ]
  },
  {
   "cell_type": "markdown",
   "metadata": {},
   "source": [
    "### step 1\n",
    "- let's define hypothasis\n",
    "\n",
    "-  Alternate Hypothesis  $$H_1 = p<100     (Bold\\ claim) $$    \n",
    "- Null Hypothesis $$H_0 = p\\geq100      $$\n"
   ]
  },
  {
   "cell_type": "markdown",
   "metadata": {},
   "source": [
    "### step 2"
   ]
  },
  {
   "cell_type": "code",
   "execution_count": 173,
   "metadata": {},
   "outputs": [],
   "source": [
    "pop_mean = 100"
   ]
  },
  {
   "cell_type": "code",
   "execution_count": 174,
   "metadata": {},
   "outputs": [],
   "source": [
    "np.random.seed(15) "
   ]
  },
  {
   "cell_type": "code",
   "execution_count": 175,
   "metadata": {},
   "outputs": [],
   "source": [
    "sample = np.random.randint(90,105,size= (100,1))"
   ]
  },
  {
   "cell_type": "code",
   "execution_count": 176,
   "metadata": {},
   "outputs": [
    {
     "data": {
      "text/plain": [
       "array([[ 98],\n",
       "       [ 95],\n",
       "       [102],\n",
       "       [ 95],\n",
       "       [ 97],\n",
       "       [ 90],\n",
       "       [102],\n",
       "       [101],\n",
       "       [ 97],\n",
       "       [101],\n",
       "       [ 95],\n",
       "       [ 96],\n",
       "       [103],\n",
       "       [ 91],\n",
       "       [103],\n",
       "       [ 97],\n",
       "       [ 90],\n",
       "       [104],\n",
       "       [100],\n",
       "       [ 94],\n",
       "       [ 99],\n",
       "       [ 97],\n",
       "       [ 95],\n",
       "       [ 93],\n",
       "       [102],\n",
       "       [103],\n",
       "       [102],\n",
       "       [103],\n",
       "       [ 96],\n",
       "       [ 98],\n",
       "       [ 92],\n",
       "       [ 91],\n",
       "       [ 91],\n",
       "       [ 90],\n",
       "       [ 95],\n",
       "       [100],\n",
       "       [ 92],\n",
       "       [101],\n",
       "       [ 92],\n",
       "       [ 91],\n",
       "       [ 98],\n",
       "       [ 95],\n",
       "       [ 96],\n",
       "       [ 99],\n",
       "       [ 92],\n",
       "       [ 98],\n",
       "       [ 96],\n",
       "       [ 98],\n",
       "       [ 98],\n",
       "       [102],\n",
       "       [ 93],\n",
       "       [ 94],\n",
       "       [ 97],\n",
       "       [ 92],\n",
       "       [100],\n",
       "       [ 90],\n",
       "       [ 95],\n",
       "       [ 97],\n",
       "       [ 93],\n",
       "       [ 98],\n",
       "       [ 95],\n",
       "       [102],\n",
       "       [103],\n",
       "       [ 93],\n",
       "       [ 91],\n",
       "       [ 90],\n",
       "       [ 98],\n",
       "       [ 97],\n",
       "       [ 95],\n",
       "       [103],\n",
       "       [102],\n",
       "       [ 98],\n",
       "       [104],\n",
       "       [104],\n",
       "       [102],\n",
       "       [ 91],\n",
       "       [ 92],\n",
       "       [ 98],\n",
       "       [102],\n",
       "       [ 93],\n",
       "       [100],\n",
       "       [ 91],\n",
       "       [ 93],\n",
       "       [104],\n",
       "       [ 97],\n",
       "       [103],\n",
       "       [103],\n",
       "       [ 92],\n",
       "       [ 97],\n",
       "       [ 92],\n",
       "       [100],\n",
       "       [100],\n",
       "       [ 90],\n",
       "       [103],\n",
       "       [100],\n",
       "       [ 90],\n",
       "       [ 97],\n",
       "       [ 96],\n",
       "       [ 94],\n",
       "       [102]])"
      ]
     },
     "execution_count": 176,
     "metadata": {},
     "output_type": "execute_result"
    }
   ],
   "source": [
    "sample"
   ]
  },
  {
   "cell_type": "code",
   "execution_count": 177,
   "metadata": {},
   "outputs": [],
   "source": [
    "pop_mean = 100\n",
    "sample_mean = sample.mean()\n",
    "sample_std = sample.std(ddof=1)\n",
    "n = len(sample)\n",
    "\n"
   ]
  },
  {
   "cell_type": "code",
   "execution_count": 178,
   "metadata": {},
   "outputs": [
    {
     "data": {
      "text/plain": [
       "96.92"
      ]
     },
     "execution_count": 178,
     "metadata": {},
     "output_type": "execute_result"
    }
   ],
   "source": [
    "sample_mean"
   ]
  },
  {
   "cell_type": "markdown",
   "metadata": {},
   "source": [
    "### step 3"
   ]
  },
  {
   "cell_type": "code",
   "execution_count": 179,
   "metadata": {},
   "outputs": [
    {
     "name": "stdout",
     "output_type": "stream",
     "text": [
      "-7.110829567943099\n"
     ]
    }
   ],
   "source": [
    "t_stat = t_score(sample_mean,pop_mean,sample_std,n)\n",
    "\n",
    "print(t_stat)"
   ]
  },
  {
   "cell_type": "markdown",
   "metadata": {},
   "source": [
    "### step 4"
   ]
  },
  {
   "cell_type": "code",
   "execution_count": 180,
   "metadata": {},
   "outputs": [
    {
     "name": "stdout",
     "output_type": "stream",
     "text": [
      "2.3646058614359737\n"
     ]
    }
   ],
   "source": [
    "# one tailed test\n",
    "confidence_level = 0.99\n",
    "alpha = 1- confidence_level\n",
    "df = n-1\n",
    "\n",
    "t_critical = t.ppf(1-alpha,df)\n",
    "print(t_critical)"
   ]
  },
  {
   "cell_type": "markdown",
   "metadata": {},
   "source": [
    "### step 5"
   ]
  },
  {
   "cell_type": "code",
   "execution_count": 181,
   "metadata": {},
   "outputs": [
    {
     "name": "stdout",
     "output_type": "stream",
     "text": [
      "reject the null hypothesis\n"
     ]
    }
   ],
   "source": [
    "if t_stat<t_critical:\n",
    "    print('reject the null hypothesis')\n",
    "else:\n",
    "    print('Failed to reject the null hypothesis')"
   ]
  },
  {
   "cell_type": "code",
   "execution_count": 182,
   "metadata": {},
   "outputs": [],
   "source": [
    "p_value = 1-t.cdf(np.abs(t_stat),df)"
   ]
  },
  {
   "cell_type": "code",
   "execution_count": 183,
   "metadata": {},
   "outputs": [
    {
     "name": "stdout",
     "output_type": "stream",
     "text": [
      "Reject Null Hypothesis\n"
     ]
    }
   ],
   "source": [
    "if(p_value < alpha):\n",
    "    print(\"Reject Null Hypothesis\")\n",
    "else:\n",
    "    print(\"Fail to reject Null Hypothesis\")\n"
   ]
  },
  {
   "cell_type": "code",
   "execution_count": 184,
   "metadata": {},
   "outputs": [],
   "source": [
    "x_max = 120\n",
    "x_min = 80\n",
    "\n",
    "mean = pop_mean\n",
    "std = sample_std"
   ]
  },
  {
   "cell_type": "code",
   "execution_count": 169,
   "metadata": {},
   "outputs": [
    {
     "data": {
      "text/plain": [
       "[<matplotlib.lines.Line2D at 0x268e06b4460>]"
      ]
     },
     "execution_count": 169,
     "metadata": {},
     "output_type": "execute_result"
    },
    {
     "data": {
      "text/plain": [
       "<matplotlib.collections.PolyCollection at 0x268e076a760>"
      ]
     },
     "execution_count": 169,
     "metadata": {},
     "output_type": "execute_result"
    },
    {
     "data": {
      "text/plain": [
       "<matplotlib.collections.PathCollection at 0x268e076a550>"
      ]
     },
     "execution_count": 169,
     "metadata": {},
     "output_type": "execute_result"
    },
    {
     "data": {
      "image/png": "[encoded data removed]",
      "text/plain": [
       "<Figure size 432x288 with 1 Axes>"
      ]
     },
     "metadata": {},
     "output_type": "display_data"
    }
   ],
   "source": [
    "x = np.linspace(x_max,x_min,100)\n",
    "y = t.pdf(x,df,mean,std)\n",
    "plt.plot(x,y)\n",
    "\n",
    "\n",
    "t_critical_left = pop_mean + (-t_critical * std)\n",
    "\n",
    "\n",
    "# rejecting region\n",
    "\n",
    "x1= np.linspace(x_min,t_critical_left,100)\n",
    "y1 = t.pdf(x1,df,mean,std)\n",
    "plt.fill_between(x1, y1, color='orange')\n",
    "\n",
    "\n",
    "plt.scatter(sample_mean,0)\n",
    "plt.annotate(\"x_bar\", (sample_mean, 0.1))\n",
    "\n",
    "\n",
    "\n",
    "\n"
   ]
  },
  {
   "cell_type": "code",
   "execution_count": null,
   "metadata": {},
   "outputs": [],
   "source": []
  }
 ],
 "metadata": {
  "kernelspec": {
   "display_name": "Python 3",
   "language": "python",
   "name": "python3"
  },
  "language_info": {
   "codemirror_mode": {
    "name": "ipython",
    "version": 3
   },
   "file_extension": ".py",
   "mimetype": "text/x-python",
   "name": "python",
   "nbconvert_exporter": "python",
   "pygments_lexer": "ipython3",
   "version": "3.8.5"
  }
 },
 "nbformat": 4,
 "nbformat_minor": 4
}
