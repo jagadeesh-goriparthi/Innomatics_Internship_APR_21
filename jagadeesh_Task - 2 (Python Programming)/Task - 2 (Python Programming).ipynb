{
 "cells": [
  {
   "cell_type": "code",
   "execution_count": 20,
   "metadata": {},
   "outputs": [],
   "source": [
    "import warnings\n",
    "warnings.filterwarnings('ignore')\n",
    "import math\n"
   ]
  },
  {
   "cell_type": "markdown",
   "metadata": {},
   "source": [
    "# Data strectures"
   ]
  },
  {
   "cell_type": "markdown",
   "metadata": {},
   "source": [
    "# Question 1"
   ]
  },
  {
   "cell_type": "markdown",
   "metadata": {},
   "source": [
    "Let's learn about list comprehensions! You are given three integers x,y and Z representing the dimensions of a cuboid along with an integer n . Print a list of all possible coordinates given by (i,j,k) on a 3D grid where the sum of i+j+k is not equal to n. Here,0<i<x,0<i<y,0<k<z . Please use list comprehensions rather than multiple loops, as a learning exercise.\n",
    "\n",
    "Input Format\n",
    "\n",
    "Four integers x,y and Z, n each on a separate line.\n",
    "\n",
    "Constraints\n",
    "\n",
    "Print the list in lexicographic increasing order.\n",
    "\n",
    "\n",
    "\n"
   ]
  },
  {
   "cell_type": "code",
   "execution_count": 93,
   "metadata": {},
   "outputs": [
    {
     "name": "stdout",
     "output_type": "stream",
     "text": [
      "1\n",
      "1\n",
      "1\n",
      "2\n",
      "[[0, 0, 0], [0, 0, 1], [0, 1, 0], [1, 0, 0], [1, 1, 1]]\n"
     ]
    }
   ],
   "source": [
    "x = int(input())\n",
    "y = int(input())\n",
    "z = int(input())\n",
    "n = int(input())\n",
    "output =[([i,j,k]) for i in range(x+1) for j in range(y+1)for k in range(z+1) if i+j+k !=n]\n",
    "print(output)"
   ]
  },
  {
   "cell_type": "code",
   "execution_count": 87,
   "metadata": {},
   "outputs": [],
   "source": [
    "x,y,z = 1,2,3"
   ]
  },
  {
   "cell_type": "code",
   "execution_count": 90,
   "metadata": {},
   "outputs": [
    {
     "name": "stdout",
     "output_type": "stream",
     "text": [
      "1\n",
      "1\n",
      "1\n",
      "1\n"
     ]
    }
   ],
   "source": [
    "x,y,z,n = int(input()),int(input()),int(input()),int(input())\n"
   ]
  },
  {
   "cell_type": "markdown",
   "metadata": {},
   "source": [
    "# Question 2"
   ]
  },
  {
   "cell_type": "markdown",
   "metadata": {},
   "source": [
    "Given the participants' score sheet for your University Sports Day, you are required to find the runner-up score. You are given n  scores. Store them in a list and find the score of the runner-up.\n",
    "\n",
    "Input Format\n",
    "\n",
    "The first line contains n . The second line contains an array a[] of n integers each separated by a space.\n",
    "\n",
    "Output Format\n",
    "\n",
    "Print the runner-up score."
   ]
  },
  {
   "cell_type": "code",
   "execution_count": 42,
   "metadata": {},
   "outputs": [
    {
     "name": "stdout",
     "output_type": "stream",
     "text": [
      "5\n",
      "2 3 6 6 5\n",
      "5\n"
     ]
    }
   ],
   "source": [
    "n = int(input())\n",
    "a =  list(map(int,input().split()))\n",
    "a = list(set(a))\n",
    "a.remove(max(a))\n",
    "print(max(a))"
   ]
  },
  {
   "cell_type": "markdown",
   "metadata": {},
   "source": [
    "# Question 3"
   ]
  },
  {
   "cell_type": "markdown",
   "metadata": {},
   "source": [
    "Given the names and grades for each student in a class of N students, store them in a nested list and print the name(s) of any student(s) having the second lowest grade.\n",
    "\n",
    "Note: If there are multiple students with the second lowest grade, order their names alphabetically and print each name on a new line.\n",
    "\n",
    "Input Format\n",
    "\n",
    "The first line contains an integer,N , the number of students.\n",
    "The 2N subsequent lines describe each student over 2 lines.\n",
    "- The first line contains a student's name.\n",
    "- The second line contains their grade.\n",
    "\n",
    "Output Format\n",
    "\n",
    "Print the name(s) of any student(s) having the second lowest grade in. If there are multiple students, order their names alphabetically and print each one on a new line.\n"
   ]
  },
  {
   "cell_type": "code",
   "execution_count": 78,
   "metadata": {},
   "outputs": [
    {
     "name": "stdout",
     "output_type": "stream",
     "text": [
      "5\n",
      "Harry\n",
      "37.21\n",
      "Berry\n",
      "37.21\n",
      "Tina\n",
      "37.2\n",
      "Akriti\n",
      "41\n",
      "Harsh\n",
      "39\n",
      "Berry\n",
      "Harry\n"
     ]
    }
   ],
   "source": [
    "n = int(input())\n",
    "data = []\n",
    "marks = set()\n",
    "for i in range(n):\n",
    "    info = []\n",
    "    name= input()\n",
    "    grade= float(input())\n",
    "    data.append([name,grade])\n",
    "    marks.add(grade)\n",
    "    \n",
    "second   =  sorted(marks)[1]\n",
    "second_lowest= []\n",
    "\n",
    "for i in data:\n",
    "    if i[1] == second:\n",
    "        second_lowest.append(i)\n",
    "\n",
    "second_lowest = sorted(second_lowest)\n",
    "for i in  second_lowest:\n",
    "    print(i[0])\n"
   ]
  },
  {
   "cell_type": "markdown",
   "metadata": {},
   "source": [
    "# Question 4"
   ]
  },
  {
   "cell_type": "markdown",
   "metadata": {},
   "source": [
    "List\n",
    "\n",
    "Consider a list (list = []). You can perform the following commands:\n",
    "\n",
    "insert i e: Insert integer e at position i.\n",
    "print: Print the list.\n",
    "remove e: Delete the first occurrence of integer e.\n",
    "append e: Insert integer  at the end of the list.\n",
    "sort: Sort the list.\n",
    "pop: Pop the last element from the list.\n",
    "reverse: Reverse the list.\n",
    "Initialize your list and read in the value of n followed by n lines of commands where each command will be of the 7 types listed above. Iterate through each command in order and perform the corresponding operation on your list.\n",
    "\n",
    "Input Format\n",
    "\n",
    "The first line contains an integer,n , denoting the number of commands.\n",
    "Each line i of the n subsequent lines contains one of the commands described above.\n",
    "\n",
    "Constraints\n",
    "\n",
    "The elements added to the list must be integers.\n",
    "\n",
    "Output Format\n",
    "\n",
    "For each command of type print, print the list on a new line"
   ]
  },
  {
   "cell_type": "code",
   "execution_count": 19,
   "metadata": {},
   "outputs": [
    {
     "name": "stdout",
     "output_type": "stream",
     "text": [
      "12\n",
      "insert 0 5\n",
      "insert 1 10\n",
      "insert 0 6\n",
      "print\n",
      "[6, 5, 10]\n",
      "remove 6\n",
      "append 9\n",
      "[5, 10, 9]\n",
      "append 1\n",
      "[5, 10, 9, 1]\n",
      "sort\n",
      "print\n",
      "[1, 5, 9, 10]\n",
      "pop\n",
      "reverse\n",
      "print\n",
      "[9, 5, 1]\n"
     ]
    }
   ],
   "source": [
    "lis= []\n",
    "n = int(input())\n",
    "for i in range(n):\n",
    "    \n",
    "    raw = list(input().split())\n",
    "    command = raw[0]\n",
    "    value = list(map(int,raw[1:]))           \n",
    "                              \n",
    "    if command == 'append':\n",
    "        lis.append(value[0])\n",
    "    elif command ==  'remove':\n",
    "        lis.remove(value[0])\n",
    "    elif  command == 'insert':\n",
    "        lis.insert(value[0],value[1])\n",
    "    elif  command =='pop':\n",
    "        lis.pop()         \n",
    "    elif  command == 'sort':        \n",
    "        lis.sort()             \n",
    "    elif  command =='reverse':\n",
    "        lis.reverse()\n",
    "    elif  command == 'print':\n",
    "        print(lis)"
   ]
  },
  {
   "cell_type": "markdown",
   "metadata": {},
   "source": [
    "# Question 6"
   ]
  },
  {
   "cell_type": "markdown",
   "metadata": {},
   "source": [
    "Dictionary\n",
    "\n",
    "The provided code stub will read in a dictionary containing key/value pairs of name:[marks] for a list of students. Print the average of the marks array for the student name provided, showing 2 places after the decimal.\n",
    "    \n",
    "Input Format\n",
    "\n",
    "The first line contains the integer n, the number of students' records. The next n lines contain the names and marks obtained by a student, each value separated by a space. The final line contains query_name, the name of a student to query.\n",
    "\n",
    "Output Format\n",
    "\n",
    "Print one line: The average of the marks obtained by the particular student correct to 2 decimal places.\n",
    "   "
   ]
  },
  {
   "cell_type": "code",
   "execution_count": 40,
   "metadata": {},
   "outputs": [
    {
     "name": "stdout",
     "output_type": "stream",
     "text": [
      "2\n",
      "Harsh 25 26.5 28\n",
      "Anurag 26 28 30\n",
      "Harsh\n",
      "26.50\n"
     ]
    }
   ],
   "source": [
    "n = int(input())\n",
    "data = {}\n",
    "for i in range(n):\n",
    "    raw = input().split()\n",
    "    name = raw[0]\n",
    "    marks = list(map(float,raw[1:]))\n",
    "    data[name] = marks\n",
    "    \n",
    "particular_student = input()\n",
    "marks_particular_student = data[particular_student]\n",
    "avg = sum(marks_particular_student)/len(marks_particular_student)\n",
    "print( '%.2f'%avg)  "
   ]
  },
  {
   "cell_type": "markdown",
   "metadata": {},
   "source": [
    "# Qeustion 7"
   ]
  },
  {
   "cell_type": "markdown",
   "metadata": {},
   "source": [
    "Tuple\n",
    "\n",
    "Given an integer,n, and n space-separated integers as input, create a tuple,t, of those n integers. Then compute and \n",
    "print the result of hash(t) .\n",
    "\n",
    "Note: hash() is one of the functions in the __builtins__ module, so it need not be imported.\n",
    "\n",
    "Input Format\n",
    "\n",
    "The first line contains an integer,n, denoting the number of elements in the tuple.\n",
    "The second line contains n space-separated integers describing the elements in tuple .\n",
    "\n",
    "Output Format\n",
    "\n",
    "Print the result of hash(t) .\n",
    "\n"
   ]
  },
  {
   "cell_type": "code",
   "execution_count": 12,
   "metadata": {},
   "outputs": [
    {
     "name": "stdout",
     "output_type": "stream",
     "text": [
      "2\n",
      "1 2 3 4\n",
      "sample list is [1, 2, 3, 4]\n",
      "sample list of tuple is [1, 2]\n",
      "the requried tuple is (1, 2)\n",
      "-3550055125485641917\n"
     ]
    }
   ],
   "source": [
    "n = int(input())\n",
    "lis = list(map(int,input().split()))\n",
    "print('sample list is',lis)\n",
    "tup = []\n",
    "for i in range(n):\n",
    "    tup.append(lis[i])\n",
    "print('sample list of tuple is', tup)\n",
    "t= tuple(tup)\n",
    "print('the requried tuple is',t)\n",
    "print(hash(t))\n",
    "    "
   ]
  },
  {
   "cell_type": "markdown",
   "metadata": {},
   "source": [
    "# Question 8"
   ]
  },
  {
   "cell_type": "markdown",
   "metadata": {},
   "source": [
    "The provided code stub will read in a dictionary containing key/value pairs of name:[marks] for a list of students. Print the average of the marks array for the student name provided, showing 2 places after the decimal.\n",
    "\n",
    "Input Format\n",
    "\n",
    "The first line contains the integer n , the number of students' records. The next n lines contain the names and marks obtained by a student, each value separated by a space. The final line contains query_name, the name of a student to query.\n",
    "\n",
    "output Format\n",
    "\n",
    "Print one line: The average of the marks obtained by the particular student correct to 2 decimal places.\n",
    "\n",
    "\n",
    "\n"
   ]
  },
  {
   "cell_type": "code",
   "execution_count": 4,
   "metadata": {},
   "outputs": [
    {
     "name": "stdout",
     "output_type": "stream",
     "text": [
      "2\n",
      "jaga 30 40 50\n",
      "raju 60 70 80\n",
      "{'jaga': [30.0, 40.0, 50.0], 'raju': [60.0, 70.0, 80.0]}\n",
      "jaga\n",
      "40.00\n"
     ]
    }
   ],
   "source": [
    "n = int(input())\n",
    "students = {}\n",
    "for i in range(n):\n",
    "    \n",
    "    data = input().split()\n",
    "    name = data[0]\n",
    "    marks = list(map(float,data[1:]))\n",
    "    students[name]=marks\n",
    "print(students) \n",
    "\n",
    "\n",
    "output = input()\n",
    "total_marks =0\n",
    "\n",
    "for i in range(len(students[output])):\n",
    "    \n",
    "    total_marks += students[output][i]\n",
    "\n",
    "avg =    total_marks/len(students[output])\n",
    "print('%.2f'%avg) \n",
    "\n",
    "\n",
    "    "
   ]
  },
  {
   "cell_type": "code",
   "execution_count": null,
   "metadata": {},
   "outputs": [],
   "source": [
    "2\n",
    "jaga 30 40 50\n",
    "raju 60 70 80\n",
    "{'jaga': [30, 40, 50], 'raju': [60, 70, 80]}\n",
    "jaga\n",
    "120\n"
   ]
  },
  {
   "cell_type": "markdown",
   "metadata": {},
   "source": [
    "# sets"
   ]
  },
  {
   "cell_type": "markdown",
   "metadata": {},
   "source": [
    "# Question 9"
   ]
  },
  {
   "cell_type": "markdown",
   "metadata": {},
   "source": [
    "Set .add()\n",
    "\n",
    "\n",
    "Apply your knowledge of the .add() operation to help your friend Rupal.\n",
    "\n",
    "Rupal has a huge collection of country stamps. She decided to count the total number of distinct country stamps in her collection. She asked for your help. You pick the stamps one by one from a stack of N  country stamps.\n",
    "\n",
    "Find the total number of distinct country stamps.\n",
    "\n",
    "Input Format\n",
    "\n",
    "The first line contains an integer N , the total number of country stamps.\n",
    "The next N lines contains the name of the country where the stamp is from.\n",
    "\n",
    "\n"
   ]
  },
  {
   "cell_type": "code",
   "execution_count": 23,
   "metadata": {},
   "outputs": [
    {
     "name": "stdout",
     "output_type": "stream",
     "text": [
      "7\n",
      "UK\n",
      "Chinna\n",
      "USA\n",
      "France\n",
      "New Zealand\n",
      "UK\n",
      "France\n",
      "number of distinct country stamps are {'USA', 'Chinna', 'France', 'New Zealand', 'UK'}\n",
      "the total number of distinct country stamps 5\n"
     ]
    }
   ],
   "source": [
    "N = int(input())\n",
    "country = set()\n",
    "for i in range(N):\n",
    "    country.add(input())\n",
    "print('number of distinct country stamps are',country)\n",
    "print('the total number of distinct country stamps',len(country))\n"
   ]
  },
  {
   "cell_type": "markdown",
   "metadata": {},
   "source": [
    "# Question 10"
   ]
  },
  {
   "cell_type": "markdown",
   "metadata": {},
   "source": [
    "Introduction to Sets\n",
    "\n",
    "\n",
    "Now, let's use our knowledge of sets and help Mickey.\n",
    "\n",
    "Ms. Gabriel Williams is a botany professor at District College. One day, she asked her student Mickey to compute the average of all the plants with distinct heights in her greenhouse.\n",
    "\n",
    "Formula used:\n",
    "\n",
    "       Average = sum of the distant heights/total no of distant heights\n",
    "    \n",
    "Function Description\n",
    "\n",
    "Complete the average function in the editor below.\n",
    "\n",
    "average has the following parameters:\n",
    "\n",
    "int arr: an array of integers\n",
    "    \n",
    "Returns\n",
    "\n",
    "float: the resulting float value rounded to 3 places after the decimal\n",
    "    \n",
    "Input Format\n",
    "\n",
    "The first line contains the integer,n , the size of arr.\n",
    "The second line contains the n space-separated integers, arr[i] .\n",
    "\n"
   ]
  },
  {
   "cell_type": "code",
   "execution_count": 43,
   "metadata": {},
   "outputs": [
    {
     "name": "stdout",
     "output_type": "stream",
     "text": [
      "10\n",
      "161 182 161 154 176 170 167 171 170 174\n",
      "169.375\n"
     ]
    }
   ],
   "source": [
    "N = int(input())\n",
    "\n",
    "num_of_trees = set(map(int,input().split()))\n",
    "\n",
    "sum_ = sum(num_of_trees)\n",
    "\n",
    "average = sum_/len(num_of_trees)\n",
    "\n",
    "print(round(average,ndigits =3))"
   ]
  },
  {
   "cell_type": "markdown",
   "metadata": {},
   "source": [
    "# Question 11"
   ]
  },
  {
   "cell_type": "markdown",
   "metadata": {},
   "source": [
    "pop, remove and discard\n",
    "\n",
    "You have a non-empty set s , and you have to execute M commands given in M lines.\n",
    "\n",
    "The commands will be pop, remove and discard.\n",
    "\n",
    "Input Format\n",
    "\n",
    "The first line contains integer n, the number of elements in the set s.\n",
    "The second line contains n space separated elements of set s. All of the elements are non-negative integers, less than or equal to 9.\n",
    "The third line contains integer M, the number of commands.\n",
    "The next N lines contains either pop, remove and/or discard commands followed by their associated value.\n",
    "\n",
    "Constraints\n",
    "\n",
    "0<n<20\n",
    "0<M<20\n",
    "\n",
    "\n",
    "\n",
    "Output Format\n",
    "\n",
    "Print the sum of the elements of set  on a single line.\n",
    "\n"
   ]
  },
  {
   "cell_type": "code",
   "execution_count": 58,
   "metadata": {},
   "outputs": [
    {
     "name": "stdout",
     "output_type": "stream",
     "text": [
      "5\n",
      "1 3 5 7 6 6 \n",
      "5\n",
      "remove 5\n",
      "discard 7\n",
      "pop\n",
      "remove 3\n",
      "pop\n",
      "0\n"
     ]
    }
   ],
   "source": [
    "n=int(input())\n",
    "\n",
    "s = set(map(int,input().split()))\n",
    "\n",
    "M=int(input())\n",
    "\n",
    "for i in range(M) :\n",
    "    choice=input().split()\n",
    "    if choice[0]==\"pop\" :\n",
    "        s.pop()\n",
    "    elif choice[0]==\"remove\" :\n",
    "        s.remove(int(choice[1]))\n",
    "    elif choice[0]==\"discard\" :\n",
    "        s.discard(int(choice[1]))\n",
    "\n",
    "print (sum(s))\n"
   ]
  },
  {
   "cell_type": "markdown",
   "metadata": {},
   "source": [
    "# Question 12"
   ]
  },
  {
   "cell_type": "markdown",
   "metadata": {},
   "source": [
    "UNION function\n",
    "\n",
    "The students of District College have subscriptions to English and French newspapers. Some students have subscribed only to English, some have subscribed to only French and some have subscribed to both newspapers.\n",
    "\n",
    "You are given two sets of student roll numbers. One set has subscribed to the English newspaper, and the other set is subscribed to the French newspaper. The same student could be in both sets. Your task is to find the total number of students who have subscribed to at least one newspaper.\n",
    "\n",
    "Input Format\n",
    "\n",
    "The first line contains an integer,n , the number of students who have subscribed to the English newspaper.\n",
    "The second line contains n space separated roll numbers of those students.\n",
    "The third line contains b, the number of students who have subscribed to the French newspaper.\n",
    "The fourth line contains b space separated roll numbers of those students.\n",
    "\n"
   ]
  },
  {
   "cell_type": "code",
   "execution_count": 60,
   "metadata": {},
   "outputs": [
    {
     "name": "stdout",
     "output_type": "stream",
     "text": [
      "9\n",
      "1 2 3 4 5 6 7 8 9\n",
      "9\n",
      "10 1 2 3 11 21 55 6 8\n",
      "total number of students who have subscribed to at least one newspaper 13\n"
     ]
    }
   ],
   "source": [
    "n = int(input())\n",
    "english = set(map(int,input().split()))\n",
    "b= int(input())\n",
    "french = set(map(int,input().split()))\n",
    "\n",
    "Atleat_one = english.union(french)\n",
    "print('total number of students who have subscribed to at least one newspaper',len(Atleat_one))\n"
   ]
  },
  {
   "cell_type": "markdown",
   "metadata": {},
   "source": [
    "# Question 13"
   ]
  },
  {
   "cell_type": "markdown",
   "metadata": {},
   "source": [
    "set.intersection() operation\n",
    "\n",
    "The students of District College have subscriptions to English and French newspapers. Some students have subscribed only to English, some have subscribed to only French and some have subscribed to both newspapers.\n",
    "\n",
    "You are given two sets of student roll numbers. One set has subscribed to the English newspaper, and the other set is subscribed to the French newspaper. The same student could be in both sets. Your task is to find Your task is to find the total number of students who have subscribed to both newspapers.\n",
    "\n",
    "Input Format\n",
    "\n",
    "The first line contains an integer,n , the number of students who have subscribed to the English newspaper.\n",
    "The second line contains n space separated roll numbers of those students.\n",
    "The third line contains b, the number of students who have subscribed to the French newspaper.\n",
    "The fourth line contains b space separated roll numbers of those students.\n",
    "\n",
    "Output Format\n",
    "\n",
    "Output the total number of students who have subscriptions to both English and French newspapers.\n",
    "\n"
   ]
  },
  {
   "cell_type": "code",
   "execution_count": 62,
   "metadata": {},
   "outputs": [
    {
     "name": "stdout",
     "output_type": "stream",
     "text": [
      "9\n",
      "1 2 3 4 5 6 7 8 9\n",
      "9\n",
      "10 1 2 3 11 21 55 6 8\n",
      "{1, 2, 3, 6, 8}\n",
      "the total number of students who have subscribed to both newspapers 5\n"
     ]
    }
   ],
   "source": [
    "n = int(input())\n",
    "english = set(map(int,input().split()))\n",
    "b= int(input())\n",
    "french = set(map(int,input().split()))\n",
    "\n",
    "Both = english.intersection(french)\n",
    "print(Both)\n",
    "print('the total number of students who have subscribed to both newspapers',len(Both))\n"
   ]
  },
  {
   "cell_type": "markdown",
   "metadata": {},
   "source": [
    "# Question 14"
   ]
  },
  {
   "cell_type": "markdown",
   "metadata": {},
   "source": [
    "Set .difference() Operation\n",
    "\n",
    "\n",
    "The students of District College have subscriptions to English and French newspapers. Some students have subscribed only to English, some have subscribed to only French and some have subscribed to both newspapers.\n",
    "\n",
    "You are given two sets of student roll numbers. One set has subscribed to the English newspaper, and the other set is subscribed to the French newspaper. The same student could be in both sets. Your task is to find the total number of students who have subscribed to only English newspapers.\n",
    "\n",
    "Input Format\n",
    "\n",
    "The first line contains an integer,n , the number of students who have subscribed to the English newspaper.\n",
    "The second line contains n space separated roll numbers of those students.\n",
    "The third line contains b, the number of students who have subscribed to the French newspaper.\n",
    "The fourth line contains b space separated roll numbers of those students.\n",
    "\n",
    "Output Format\n",
    "\n",
    "Output the total number of students who are subscribed to the English newspaper only.\n"
   ]
  },
  {
   "cell_type": "code",
   "execution_count": 65,
   "metadata": {},
   "outputs": [
    {
     "name": "stdout",
     "output_type": "stream",
     "text": [
      "9\n",
      "1 2 3 4 5 6 7 8 9\n",
      "9\n",
      "10 1 2 3 11 21 55 6 8\n",
      "{9, 4, 5, 7}\n",
      "the total number of students who have subscribed to both newspapers 4\n"
     ]
    }
   ],
   "source": [
    "n = int(input())\n",
    "english = set(map(int,input().split()))\n",
    "b= int(input())\n",
    "french = set(map(int,input().split()))\n",
    "\n",
    "only_english = english.difference(french)\n",
    "print(only_english)\n",
    "print('the total number of students who have subscribed to both newspapers',len(only_english))"
   ]
  },
  {
   "cell_type": "markdown",
   "metadata": {},
   "source": [
    "# Question 15"
   ]
  },
  {
   "cell_type": "markdown",
   "metadata": {},
   "source": [
    "Set .symmetric_difference() Operation\n",
    "\n",
    "\n",
    "Students of District College have subscriptions to English and French newspapers. Some students have subscribed to English only, some have subscribed to French only, and some have subscribed to both newspapers.\n",
    "\n",
    "You are given two sets of student roll numbers. One set has subscribed to the English newspaper, and one set has subscribed to the French newspaper. Your task is to find the total number of students who have subscribed to either the English or the French newspaper but not both.\n",
    "\n",
    "Input Format\n",
    "\n",
    "The first line contains the number of students who have subscribed to the English newspaper.\n",
    "The second line contains the space separated list of student roll numbers who have subscribed to the English newspaper.\n",
    "The third line contains the number of students who have subscribed to the French newspaper.\n",
    "The fourth line contains the space separated list of student roll numbers who have subscribed to the French newspaper.\n",
    "\n",
    "Output Format\n",
    "\n",
    "Output total number of students who have subscriptions to the English or the French newspaper but not both.\n"
   ]
  },
  {
   "cell_type": "code",
   "execution_count": 69,
   "metadata": {},
   "outputs": [
    {
     "name": "stdout",
     "output_type": "stream",
     "text": [
      "9\n",
      "1 2 3 4 5 6 7 8 9\n",
      "9\n",
      "10 1 2 3 11 21 55 6 8\n",
      "{4, 5, 7, 9, 10, 11, 21, 55}\n",
      "the total number of students who have subscribed to both newspapers 8\n"
     ]
    }
   ],
   "source": [
    "n = int(input())\n",
    "english = set(map(int,input().split()))\n",
    "b= int(input())\n",
    "french = set(map(int,input().split()))\n",
    "\n",
    "either_one_of_them = english.symmetric_difference(french)\n",
    "print(either_one_of_them)\n",
    "print('the total number of students who have subscribed to both newspapers',len(either_one_of_them))"
   ]
  },
  {
   "cell_type": "markdown",
   "metadata": {},
   "source": [
    "# Question 16"
   ]
  },
  {
   "cell_type": "markdown",
   "metadata": {},
   "source": [
    "Set Mutations\n",
    "\n",
    "update(),intersection_update(),difference_update(),symmetric_difference_update()\n",
    "\n",
    "You are given a set A and N number of other sets. These N number of sets have to perform some specific mutation operations on set .\n",
    "\n",
    "Your task is to execute those operations and print the sum of elements from set A .\n",
    "\n",
    "Input Format\n",
    "\n",
    "The first line contains the number of elements in set A .\n",
    "The second line contains the space separated list of elements in set A .\n",
    "The third line contains integer N , the number of other sets.\n",
    "The next  lines are divided into N parts containing two lines each.\n",
    "The first line of each part contains the space separated entries of the operation name and the length of the other set.\n",
    "The second line of each part contains space separated list of elements in the other set.\n",
    "\n",
    "Output Format\n",
    "\n",
    "Output the sum of elements in set A .\n"
   ]
  },
  {
   "cell_type": "code",
   "execution_count": 82,
   "metadata": {},
   "outputs": [
    {
     "name": "stdout",
     "output_type": "stream",
     "text": [
      "16\n",
      " 1 2 3 4 5 6 7 8 9 10 11 12 13 14 24 52\n",
      "4\n",
      " intersection_update 10\n",
      " 2 3 5 6 8 9 1 4 7 11\n",
      " update 2\n",
      " 55 66\n",
      " symmetric_difference_update 5\n",
      " 22 7 35 62 58\n",
      " difference_update 7\n",
      " 11 22 35 55 58 62 66\n",
      "38\n"
     ]
    }
   ],
   "source": [
    "n = int(input())\n",
    "A = set(map(int,input().split()))\n",
    "N= int(input())\n",
    "for i in range(N):\n",
    "    data = input().split()\n",
    "    B= set(map(int,input().split()))\n",
    "    if data[0] == 'update':\n",
    "        A.update(B)\n",
    "    elif data[0] == 'intersection_update':\n",
    "        A.intersection_update(B)\n",
    "    elif data[0] == 'difference_update':\n",
    "        A.difference_update(B)\n",
    "    elif data[0] == 'symmetric_difference_update':\n",
    "        A.symmetric_difference_update(B)\n",
    "print(sum(A))        "
   ]
  },
  {
   "cell_type": "markdown",
   "metadata": {},
   "source": [
    "# Question 17"
   ]
  },
  {
   "cell_type": "markdown",
   "metadata": {},
   "source": [
    "Subset:\n",
    "A subset is a set whose elements are all members of another set.\n",
    "\n",
    "Task:\n",
    "\n",
    "You are given two sets, A and B .\n",
    "Your job is to find whether set A is a subset of set B .\n",
    "\n",
    "If set A is subset of set B, print True.\n",
    "If set A is not a subset of set B , print False.\n",
    "\n",
    "Input Format\n",
    "\n",
    "The first line will contain the number of test cases, T .\n",
    "The first line of each test case contains the number of elements in set A.\n",
    "The second line of each test case contains the space separated elements of set A .\n",
    "The third line of each test case contains the number of elements in set B.\n",
    "The fourth line of each test case contains the space separated elements of set B .\n",
    "\n",
    "Output Format\n",
    "\n",
    "Output True or False for each test case on separate lines.\n",
    "\n",
    "\n",
    "\n"
   ]
  },
  {
   "cell_type": "code",
   "execution_count": 8,
   "metadata": {},
   "outputs": [
    {
     "name": "stdout",
     "output_type": "stream",
     "text": [
      "2\n",
      "2\n",
      "1 2\n",
      "4\n",
      "1 2 3 4\n",
      "True\n",
      "3\n",
      "4 5 6\n",
      "5\n",
      "7 8 5 6\n",
      "False\n"
     ]
    }
   ],
   "source": [
    "T = int(input())\n",
    "for i in range(T):\n",
    "    N = int(input())\n",
    "    A = set(map(int,input().split()))\n",
    "    M = int(input())\n",
    "    B = set(map(int,input().split()))\n",
    "    print(A.issubset(B))"
   ]
  },
  {
   "cell_type": "markdown",
   "metadata": {},
   "source": [
    "# Question 18"
   ]
  },
  {
   "cell_type": "markdown",
   "metadata": {},
   "source": [
    "strict superset\n",
    "\n",
    "A strict superset has at least one element that does not exist in its subset. \n",
    "\n",
    "Task:\n",
    "\n",
    "You are given a set A and N other sets.\n",
    "Your job is to find whether set A is a strict superset of each of the N sets.\n",
    "\n",
    "Print True, if A is a strict superset of each of the N sets. Otherwise, print False.\n",
    "\n",
    "Input Format\n",
    "\n",
    "The first line contains the space separated elements of set n .\n",
    "The second line contains integer , the number of other sets.\n",
    "The next n lines contains the space separated elements of the other sets.\n",
    "\n",
    "Output Format\n",
    "\n",
    "Print True if set A is a strict superset of all other N sets. Otherwise, print False.\n"
   ]
  },
  {
   "cell_type": "code",
   "execution_count": 80,
   "metadata": {},
   "outputs": [
    {
     "name": "stdout",
     "output_type": "stream",
     "text": [
      "1 2 3 4 5 6 7 8 9 10 11 12 23 45 84 78\n",
      "2\n",
      "1 2 3 4 5\n",
      "100 11 12\n",
      "False\n"
     ]
    }
   ],
   "source": [
    "A = set(map(int,input().split()))\n",
    "N = int(input())\n",
    "is_superset = []\n",
    "for i in range(N):\n",
    "    B = set(map(int,input().split()))\n",
    "    is_superset.append(A.issuperset(B))\n",
    "    \n",
    "for i in range(len(is_superset)):\n",
    "    if is_superset[i] == False:\n",
    "        result = False\n",
    "        break\n",
    "    else:\n",
    "        result = True\n",
    "    \n",
    "        \n",
    "        \n",
    "        \n",
    "print (result)\n",
    "\n",
    "    \n"
   ]
  },
  {
   "cell_type": "code",
   "execution_count": null,
   "metadata": {},
   "outputs": [],
   "source": [
    "1 2 3 4 5 6 7 8 9 10 11 12 23 45 84 78\n",
    "\n",
    "2\n",
    "1 2 3 4 5\n",
    "100 11 12\n",
    "False\n"
   ]
  },
  {
   "cell_type": "markdown",
   "metadata": {},
   "source": [
    "A = set(input().split())\n",
    "\n",
    "for _ in range(int(input())):\n",
    "    if not A.issuperset(set(input().split())):\n",
    "        print(False)\n",
    "        break\n",
    "else:\n",
    "    print(True)\n"
   ]
  },
  {
   "cell_type": "markdown",
   "metadata": {},
   "source": [
    "# Question 19"
   ]
  },
  {
   "cell_type": "markdown",
   "metadata": {},
   "source": [
    "Mr. Anant Asankhya is the manager at the INFINITE hotel. The hotel has an infinite amount of rooms.\n",
    "\n",
    "One fine day, a finite number of tourists come to stay at the hotel.\n",
    "The tourists consist of:\n",
    "→ A Captain.\n",
    "→ An unknown group of families consisting of  members per group where  k≠ 1.\n",
    "\n",
    "The Captain was given a separate room, and the rest were given one room per group.\n",
    "\n",
    "Mr. Anant has an unordered list of randomly arranged room entries. The list consists of the room numbers for all of the tourists. The room numbers will appear k times per group except for the Captain's room.\n",
    "\n",
    "Mr. Anant needs you to help him find the Captain's room number.\n",
    "The total number of tourists or the total number of groups of families is not known to you.\n",
    "You only know the value of k and the room number list.\n",
    "\n",
    "Input Format\n",
    "\n",
    "The first line consists of an integer,K, the size of each group.\n",
    "The second line contains the unordered elements of the room number list.\n",
    "\n",
    "Output Format\n",
    "\n",
    "Output the Captain's room number.\n",
    "\n",
    "\n",
    "\n",
    "\n"
   ]
  },
  {
   "cell_type": "code",
   "execution_count": 39,
   "metadata": {},
   "outputs": [
    {
     "name": "stdout",
     "output_type": "stream",
     "text": [
      "5\n",
      "1 2 3 6 5 4 4 2 5 3 6 1 6 5 3 2 4 1 2 5 1 4 3 6 8 4 3 1 5 6 2\n",
      "8\n"
     ]
    }
   ],
   "source": [
    "k= int(input())\n",
    "a = list(map(int,input().split()))\n",
    "for i in range(len(a)):\n",
    "    if (a.count(a[i])) == 1:\n",
    "        print(a[i])\n",
    "        \n"
   ]
  },
  {
   "cell_type": "code",
   "execution_count": 42,
   "metadata": {},
   "outputs": [
    {
     "name": "stdout",
     "output_type": "stream",
     "text": [
      "5\n",
      "1 2 3 6 5 4 4 2 5 3 6 1 6 5 3 2 4 1 2 5 1 4 3 6 8 4 3 1 5 6 2\n",
      "[1, 2, 3, 6, 5, 4, 4, 2, 5, 3, 6, 1, 6, 5, 3, 2, 4, 1, 2, 5, 1, 4, 3, 6, 8, 4, 3, 1, 5, 6, 2]\n",
      "#############\n",
      "{1, 2, 3, 4, 5, 6, 8}\n",
      "#############\n",
      "[2, 3, 6, 5, 4, 4, 2, 5, 3, 6, 1, 6, 5, 3, 2, 4, 1, 2, 5, 1, 4, 3, 6, 8, 4, 3, 1, 5, 6, 2]\n",
      "#############\n",
      "[3, 6, 5, 4, 4, 2, 5, 3, 6, 1, 6, 5, 3, 2, 4, 1, 2, 5, 1, 4, 3, 6, 8, 4, 3, 1, 5, 6, 2]\n",
      "#############\n",
      "[6, 5, 4, 4, 2, 5, 3, 6, 1, 6, 5, 3, 2, 4, 1, 2, 5, 1, 4, 3, 6, 8, 4, 3, 1, 5, 6, 2]\n",
      "#############\n",
      "[6, 5, 4, 2, 5, 3, 6, 1, 6, 5, 3, 2, 4, 1, 2, 5, 1, 4, 3, 6, 8, 4, 3, 1, 5, 6, 2]\n",
      "#############\n",
      "[6, 4, 2, 5, 3, 6, 1, 6, 5, 3, 2, 4, 1, 2, 5, 1, 4, 3, 6, 8, 4, 3, 1, 5, 6, 2]\n",
      "#############\n",
      "[4, 2, 5, 3, 6, 1, 6, 5, 3, 2, 4, 1, 2, 5, 1, 4, 3, 6, 8, 4, 3, 1, 5, 6, 2]\n",
      "#############\n",
      "[4, 2, 5, 3, 6, 1, 6, 5, 3, 2, 4, 1, 2, 5, 1, 4, 3, 6, 4, 3, 1, 5, 6, 2]\n",
      "#############\n",
      "captions room number is: 8\n"
     ]
    }
   ],
   "source": [
    "k = int(input())\n",
    "lis = list(map(int, input().split(' ')))\n",
    "print(lis)\n",
    "print('#############')\n",
    "set_ = set(lis)\n",
    "print(set_)\n",
    "print('#############')\n",
    "\n",
    "for i in set_:\n",
    "    lis.remove(i)\n",
    "    print(lis)\n",
    "    print('#############')\n",
    "    \n",
    "    if i not in lis:\n",
    "        print('captions room number is:', i)\n",
    "        break"
   ]
  },
  {
   "cell_type": "markdown",
   "metadata": {},
   "source": [
    "# Question 20"
   ]
  },
  {
   "cell_type": "markdown",
   "metadata": {},
   "source": [
    "There is an array of n integers. There are also 2 disjoint sets, A and B, each containing m integers. You like all the integers in set A  and dislike all the integers in set B. Your initial happiness is 0 . For each  integer in the array, if ,i in A you add 1 to your happiness. If ,i in B you add -1 to your happiness. Otherwise, your happiness does not change. Output your final happiness at the end.\n",
    "\n",
    "Note: Since  A and B are sets, they have no repeated elements. However, the array might contain duplicate elements.\n",
    "\n",
    "Input Format\n",
    "\n",
    "The first line contains integers n and m separated by a space.\n",
    "The second line contains n integers, the elements of the array.\n",
    "The third and fourth lines contain m integers, A and B , respectively.\n",
    "\n",
    "Output Format\n",
    "\n",
    "Output a single integer, your total happiness.\n"
   ]
  },
  {
   "cell_type": "code",
   "execution_count": 84,
   "metadata": {},
   "outputs": [],
   "source": [
    "import numpy as np"
   ]
  },
  {
   "cell_type": "code",
   "execution_count": 91,
   "metadata": {},
   "outputs": [
    {
     "name": "stdout",
     "output_type": "stream",
     "text": [
      "3 2\n",
      "1 5 3\n",
      "3 1\n",
      "5 7\n",
      "1\n"
     ]
    }
   ],
   "source": [
    "int_ = input()\n",
    "n = list(map(int,input().split()))\n",
    "a = set(map(int, input().split()))\n",
    "b = set(map(int, input().split()))\n",
    "happiness = 0\n",
    "for i in n:\n",
    "    if i in a:\n",
    "        happiness  = happiness+1\n",
    "for i in n:\n",
    "    if i in b:\n",
    "        happiness  = happiness-1\n",
    "print(happiness)"
   ]
  },
  {
   "cell_type": "markdown",
   "metadata": {},
   "source": [
    "# Question 21"
   ]
  },
  {
   "cell_type": "markdown",
   "metadata": {},
   "source": [
    "symmetric diffrence in accesnding order\n",
    "\n",
    "Given 2 sets of integers, M and N, print their symmetric difference in ascending order. The term symmetric difference indicates those values that exist in either M or N but do not exist in both.\n",
    "\n",
    "Input Format\n",
    "\n",
    "The first line of input contains an integer,M .\n",
    "The second line contains M space-separated integers.\n",
    "The third line contains an integer,N .\n",
    "The fourth line contains N space-separated integers.\n",
    "\n",
    "Output Format\n",
    "\n",
    "Output the symmetric difference integers in ascending order, one per line.\n",
    "\n",
    "\n",
    "\n"
   ]
  },
  {
   "cell_type": "code",
   "execution_count": 70,
   "metadata": {},
   "outputs": [
    {
     "name": "stdout",
     "output_type": "stream",
     "text": [
      "2\n",
      "8 -10\n",
      "3\n",
      "5 6 7\n",
      "-10\n",
      "5\n",
      "6\n",
      "7\n",
      "8\n"
     ]
    }
   ],
   "source": [
    "m = int(input())\n",
    "a = set(map(int, input().split()))\n",
    "n = int(input())\n",
    "b = set(map(int, input().split()))\n",
    "c = list(a.symmetric_difference(b))\n",
    "c = sorted(c)\n",
    "for i in c:\n",
    "    print(i)"
   ]
  }
 ],
 "metadata": {
  "kernelspec": {
   "display_name": "Python 3",
   "language": "python",
   "name": "python3"
  },
  "language_info": {
   "codemirror_mode": {
    "name": "ipython",
    "version": 3
   },
   "file_extension": ".py",
   "mimetype": "text/x-python",
   "name": "python",
   "nbconvert_exporter": "python",
   "pygments_lexer": "ipython3",
   "version": "3.8.5"
  }
 },
 "nbformat": 4,
 "nbformat_minor": 4
}
