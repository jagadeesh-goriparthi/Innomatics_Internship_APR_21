{
 "cells": [
  {
   "cell_type": "code",
   "execution_count": 1,
   "metadata": {},
   "outputs": [],
   "source": [
    "import warnings\n",
    "warnings.filterwarnings('ignore')\n",
    "\n",
    "from IPython.core.interactiveshell import InteractiveShell\n",
    "InteractiveShell.ast_node_interactivity ='all'\n",
    "\n",
    "import numpy as np\n",
    "import pandas as pd"
   ]
  },
  {
   "cell_type": "markdown",
   "metadata": {},
   "source": [
    "# Question 1"
   ]
  },
  {
   "cell_type": "raw",
   "metadata": {},
   "source": [
    "Task\n",
    "\n",
    "You are given a space separated list of numbers.\n",
    "Your task is to print a reversed NumPy array with the element type float.\n",
    "\n",
    "Input Format\n",
    "\n",
    "A single line of input containing space separated numbers.\n",
    "\n",
    "Output Format\n",
    "\n",
    "Print the reverse NumPy array with type float.\n",
    "\n",
    "Sample Input\n",
    "\n",
    "1 2 3 4 -8 -10\n",
    "\n",
    "Sample Output\n",
    "\n",
    "[-10.  -8.   4.   3.   2.   1.]\n"
   ]
  },
  {
   "cell_type": "code",
   "execution_count": 14,
   "metadata": {},
   "outputs": [],
   "source": [
    "def arrays(arr):\n",
    "    li = list(map(float,arr))\n",
    "    li.reverse()\n",
    "    array = np.array(li)\n",
    "    return(array)\n",
    "\n"
   ]
  },
  {
   "cell_type": "code",
   "execution_count": 15,
   "metadata": {},
   "outputs": [
    {
     "name": "stdout",
     "output_type": "stream",
     "text": [
      "1 2 3 4 -8 -10\n"
     ]
    },
    {
     "data": {
      "text/plain": [
       "array([-10.,  -8.,   4.,   3.,   2.,   1.])"
      ]
     },
     "execution_count": 15,
     "metadata": {},
     "output_type": "execute_result"
    }
   ],
   "source": [
    "arr = input().strip().split()\n",
    "arrays(arr)\n"
   ]
  },
  {
   "cell_type": "code",
   "execution_count": 20,
   "metadata": {},
   "outputs": [
    {
     "name": "stdout",
     "output_type": "stream",
     "text": [
      "1 2 3 4 -8 -10\n",
      "[  1.   2.   3.   4.  -8. -10.]\n",
      "[-10.  -8.   4.   3.   2.   1.]\n"
     ]
    }
   ],
   "source": [
    "arr = input().strip().split()\n",
    "\n",
    "array = np.array(list(map(float,arr)))\n",
    "print(array)\n",
    "rev_arr = array[::-1]\n",
    "print(rev_arr)"
   ]
  },
  {
   "cell_type": "markdown",
   "metadata": {},
   "source": [
    "# Question 2"
   ]
  },
  {
   "cell_type": "raw",
   "metadata": {},
   "source": [
    "shape and reshape\n",
    "\n",
    "You are given a space separated list of nine integers. Your task is to convert this list into a 3X3 NumPy array.\n",
    "\n",
    "Input Format\n",
    "\n",
    "A single line of input containing 9 space separated integers.\n",
    "\n",
    "Output Format\n",
    "\n",
    "Print the 3X3 NumPy array.\n",
    "\n",
    "Sample Input\n",
    "\n",
    "1 2 3 4 5 6 7 8 9\n",
    "\n",
    "Sample Output\n",
    "\n",
    "[[1 2 3]\n",
    " [4 5 6]\n",
    " [7 8 9]]\n"
   ]
  },
  {
   "cell_type": "code",
   "execution_count": 21,
   "metadata": {},
   "outputs": [
    {
     "name": "stdout",
     "output_type": "stream",
     "text": [
      "1 2 3 4 5 6 7 8 9\n",
      "[[1 2 3]\n",
      " [4 5 6]\n",
      " [7 8 9]]\n"
     ]
    }
   ],
   "source": [
    "n = list(map(int,input().strip().split()))\n",
    "arr = np.array(n)\n",
    "arr1 = arr.reshape(3,3)\n",
    "print(arr1)"
   ]
  },
  {
   "cell_type": "markdown",
   "metadata": {},
   "source": [
    "# Question 3"
   ]
  },
  {
   "cell_type": "raw",
   "metadata": {},
   "source": [
    "Transpose ,flaten\n",
    "\n",
    "You are given a NXM integer array matrix with space separated elements ( N= rows and  M= columns).\n",
    "Your task is to print the transpose and flatten results.\n",
    "\n",
    "Input Format\n",
    "\n",
    "The first line contains the space separated values of N and M .\n",
    "The next N lines contains the space separated elements of M columns.\n",
    "\n",
    "Output Format\n",
    "\n",
    "First, print the transpose array and then print the flatten.\n",
    "\n",
    "\n",
    "2 2\n",
    "1 2\n",
    "3 4\n",
    "\n",
    "\n"
   ]
  },
  {
   "cell_type": "code",
   "execution_count": 33,
   "metadata": {},
   "outputs": [
    {
     "name": "stdout",
     "output_type": "stream",
     "text": [
      "2 2\n",
      "1 2\n",
      "3 4\n"
     ]
    },
    {
     "data": {
      "text/plain": [
       "array([[1, 2],\n",
       "       [3, 4]])"
      ]
     },
     "execution_count": 33,
     "metadata": {},
     "output_type": "execute_result"
    },
    {
     "name": "stdout",
     "output_type": "stream",
     "text": [
      "[[1 2]\n",
      " [3 4]]\n"
     ]
    }
   ],
   "source": [
    "n,m = map(int,input().split())\n",
    "arr =  [input().split() for i in range(n)]\n",
    "arr = np.array(arr,dtype = 'int')\n",
    "arr\n",
    "print(arr)"
   ]
  },
  {
   "cell_type": "code",
   "execution_count": 34,
   "metadata": {},
   "outputs": [
    {
     "data": {
      "text/plain": [
       "dtype('int32')"
      ]
     },
     "execution_count": 34,
     "metadata": {},
     "output_type": "execute_result"
    }
   ],
   "source": [
    "arr.dtype"
   ]
  },
  {
   "cell_type": "code",
   "execution_count": 35,
   "metadata": {},
   "outputs": [
    {
     "name": "stdout",
     "output_type": "stream",
     "text": [
      "Flatten array is:\n",
      "[1 2 3 4]\n",
      "Transposed array is:\n",
      "[[1 3]\n",
      " [2 4]]\n"
     ]
    }
   ],
   "source": [
    "print(\"Flatten array is:\",arr.flatten(),sep = '\\n')\n",
    "print(\"Transposed array is:\",arr.transpose(),sep = '\\n')"
   ]
  },
  {
   "cell_type": "markdown",
   "metadata": {},
   "source": [
    "# Question 4"
   ]
  },
  {
   "cell_type": "raw",
   "metadata": {},
   "source": [
    "Task\n",
    "\n",
    "You are given two integer arrays of size NXP and MXP (N & M are rows, and P is the column). Your task is to concatenate the arrays along axis 0.\n",
    "\n",
    "Input Format\n",
    "\n",
    "The first line contains space separated integers N , Mand P.\n",
    "\n",
    "The next N lines contains the space separated elements of the P columns.\n",
    "\n",
    "After that, the next M lines contains the space separated elements of the P columns.\n",
    "\n",
    "Output Format\n",
    "\n",
    "Print the concatenated array of size X.\n",
    "\n",
    "Sample Input\n",
    "\n",
    "4 3 2\n",
    "1 2\n",
    "1 2 \n",
    "1 2\n",
    "1 2\n",
    "3 4\n",
    "3 4\n",
    "3 4 \n",
    "Sample Output\n",
    "\n",
    "[[1 2]\n",
    " [1 2]\n",
    " [1 2]\n",
    " [1 2]\n",
    " [3 4]\n",
    " [3 4]\n",
    " [3 4]] \n"
   ]
  },
  {
   "cell_type": "code",
   "execution_count": 42,
   "metadata": {},
   "outputs": [
    {
     "name": "stdout",
     "output_type": "stream",
     "text": [
      "4 3 2\n",
      "1 2\n",
      "1 2\n",
      "1 2\n",
      "1 2\n",
      "3 4\n",
      "3 4\n",
      "3 4\n",
      "[[1 2]\n",
      " [1 2]\n",
      " [1 2]\n",
      " [1 2]\n",
      " [3 4]\n",
      " [3 4]\n",
      " [3 4]]\n"
     ]
    }
   ],
   "source": [
    "n,m,p = map(int,input().split())\n",
    "l1 = []\n",
    "for i in range(n):\n",
    "    arr = input().split()\n",
    "    l1.append(arr)\n",
    "arr1 = np.array(l1,dtype = 'int')\n",
    "l2 = [input().split() for i in range(m)]\n",
    "arr2 = np.array(l2,dtype = 'int')\n",
    "concate = np.concatenate((arr1,arr2),axis=0)\n",
    "print(concate)"
   ]
  },
  {
   "cell_type": "markdown",
   "metadata": {},
   "source": [
    "# Question 5"
   ]
  },
  {
   "cell_type": "raw",
   "metadata": {},
   "source": [
    "Zeros and ones\n",
    "\n",
    "You are given the shape of the array in the form of space-separated integers, each integer representing the size of different dimensions, your task is to print an array of the given shape and integer type using the tools numpy.zeros and numpy.ones.\n",
    "\n",
    "Input Format\n",
    "\n",
    "A single line containing the space-separated integers.\n",
    "\n",
    "\n",
    "Output Format\n",
    "\n",
    "First, print the array using the numpy.zeros tool and then print the array with the numpy.ones tool.\n",
    "\n"
   ]
  },
  {
   "cell_type": "code",
   "execution_count": 16,
   "metadata": {},
   "outputs": [
    {
     "name": "stdout",
     "output_type": "stream",
     "text": [
      "3 3 3\n",
      "[[[0 0 0]\n",
      "  [0 0 0]\n",
      "  [0 0 0]]\n",
      "\n",
      " [[0 0 0]\n",
      "  [0 0 0]\n",
      "  [0 0 0]]\n",
      "\n",
      " [[0 0 0]\n",
      "  [0 0 0]\n",
      "  [0 0 0]]]\n",
      "[[[1 1 1]\n",
      "  [1 1 1]\n",
      "  [1 1 1]]\n",
      "\n",
      " [[1 1 1]\n",
      "  [1 1 1]\n",
      "  [1 1 1]]\n",
      "\n",
      " [[1 1 1]\n",
      "  [1 1 1]\n",
      "  [1 1 1]]]\n"
     ]
    }
   ],
   "source": [
    "num = list(map(int,input().strip().split()))\n",
    "print(np.zeros(num,dtype = np.int))\n",
    "print(np.ones(num,dtype = np.int))"
   ]
  },
  {
   "cell_type": "markdown",
   "metadata": {},
   "source": [
    "# Question 6"
   ]
  },
  {
   "cell_type": "raw",
   "metadata": {},
   "source": [
    "identity and eye\n",
    "\n",
    "Your task is to print an array of size NXM with its main diagonal elements as '1s and '0s everywhere else.\n",
    "\n",
    "\n",
    "Input Format\n",
    "\n",
    "A single line containing the space separated values of N and M .\n",
    "N denotes the rows.\n",
    "M denotes the columns.\n",
    "\n",
    "Output Format\n",
    "\n",
    "Print the desired NXM array.\n",
    "\n"
   ]
  },
  {
   "cell_type": "code",
   "execution_count": 44,
   "metadata": {},
   "outputs": [
    {
     "name": "stdout",
     "output_type": "stream",
     "text": [
      "3 3\n",
      "3 3\n"
     ]
    }
   ],
   "source": [
    "n,m = map(int,input().strip().split())\n"
   ]
  },
  {
   "cell_type": "code",
   "execution_count": 48,
   "metadata": {},
   "outputs": [
    {
     "name": "stdout",
     "output_type": "stream",
     "text": [
      "[[1. 0. 0.]\n",
      " [0. 1. 0.]\n",
      " [0. 0. 1.]]\n"
     ]
    }
   ],
   "source": [
    "print(np.identity(n))"
   ]
  },
  {
   "cell_type": "code",
   "execution_count": 49,
   "metadata": {},
   "outputs": [
    {
     "name": "stdout",
     "output_type": "stream",
     "text": [
      "[[1. 0. 0.]\n",
      " [0. 1. 0.]\n",
      " [0. 0. 1.]]\n"
     ]
    }
   ],
   "source": [
    "print(np.eye(n,m,))"
   ]
  },
  {
   "cell_type": "markdown",
   "metadata": {},
   "source": [
    "# Question 7"
   ]
  },
  {
   "cell_type": "raw",
   "metadata": {},
   "source": [
    "Task\n",
    "\n",
    "You are given two integer arrays, A and B of dimensions NXM.\n",
    "Your task is to perform the following operations:\n",
    "    \n",
    "1.Add ( A+B )\n",
    "2.Subtract (A -B )\n",
    "3.Multiply ( A*B )\n",
    "4.Integer Division (A /B )\n",
    "5.Mod ( A%B)\n",
    "6.Power (A **B )\n",
    "\n",
    "Input Format\n",
    "\n",
    "The first line contains two space separated integers, N and M .\n",
    "The next N lines contains M space separated integers of array A.\n",
    "The following N lines contains M space separated integers of array B.\n",
    "\n",
    "Output Format\n",
    "\n",
    "Print the result of each operation in the given order under Task.\n"
   ]
  },
  {
   "cell_type": "code",
   "execution_count": 65,
   "metadata": {},
   "outputs": [
    {
     "name": "stdout",
     "output_type": "stream",
     "text": [
      "1 4\n",
      "1 2 3 4\n",
      "5 6 7 8\n",
      "sum of elements in A&B is : [[ 6  8 10 12]]\n",
      "subtractioni of elements in A&B is : [[-4 -4 -4 -4]]\n",
      "multiplication of elements in  A&B is : [[ 5 12 21 32]]\n",
      "integer division of elemnts in  A&B is : [[0 0 0 0]]\n",
      " remainder of elemnts of in  A&B is : [[1 2 3 4]]\n",
      "power of A&B is : [[    1    64  2187 65536]]\n"
     ]
    }
   ],
   "source": [
    "n,m = map(int,input().strip().split())\n",
    "arr1 = [input().split() for i in range(n)]\n",
    "A = np.array(arr1,dtype = np.int)\n",
    "arr2 = [input().split() for i in range(n)]\n",
    "B = np.array(arr2,dtype = np.int)\n",
    "\n",
    "print('sum of elements in A&B is :' , np.add(A,B))\n",
    "print('subtractioni of elements in A&B is :', np.subtract(A,B))\n",
    "print('multiplication of elements in  A&B is :' ,np.multiply(A,B))\n",
    "print('integer division of elemnts in  A&B is :' ,np.floor_divide(A,B))\n",
    "print(' remainder of elemnts of in  A&B is :' ,np.mod(A,B))\n",
    "print('power of A&B is :' ,np.power(A,B))\n",
    "\n",
    "\n",
    "\n",
    "\n"
   ]
  },
  {
   "cell_type": "markdown",
   "metadata": {},
   "source": [
    "# Question 8"
   ]
  },
  {
   "cell_type": "raw",
   "metadata": {},
   "source": [
    "floor,celi,rint\n",
    "\n",
    "You are given a 1-D array, . Your task is to print the floor,celi and rint  of all the elements of A.\n",
    "\n",
    "Note\n",
    "In order to get the correct output format, add the line np.set_printoptions(legacy ='1.13') below the numpy import.\n",
    "\n",
    "Input Format\n",
    "\n",
    "A single line of input containing the space separated elements of array A.\n",
    "\n",
    "Output Format\n",
    "\n",
    "On the first line, print the floor of A.\n",
    "On the second line, print the celi of A.\n",
    "On the third line, print the rint of A.\n"
   ]
  },
  {
   "cell_type": "code",
   "execution_count": 17,
   "metadata": {},
   "outputs": [
    {
     "name": "stdout",
     "output_type": "stream",
     "text": [
      "1.1 2.2 3.3 4.4 5.5 6.6 7.7 8.8 9.9\n",
      "[1. 2. 3. 4. 5. 6. 7. 8. 9.]\n",
      "[ 2.  3.  4.  5.  6.  7.  8.  9. 10.]\n",
      "[ 1.  2.  3.  4.  6.  7.  8.  9. 10.]\n"
     ]
    }
   ],
   "source": [
    "A = list(map(float,input().split()))\n",
    "A = np.array(A)\n",
    "print(np.floor(A))\n",
    "print(np.ceil(A))\n",
    "print(np.rint(A))"
   ]
  },
  {
   "cell_type": "markdown",
   "metadata": {},
   "source": [
    "# Question 9"
   ]
  },
  {
   "cell_type": "raw",
   "metadata": {},
   "source": [
    "SUM and product\n",
    "\n",
    "You are given a 2-D array with dimensions NXM.\n",
    "Your task is to perform the SUM tool over axis 0 and then find the PRODUCT of that result.\n",
    "\n",
    "Input Format\n",
    "\n",
    "The first line of input contains space separated values of N and M.\n",
    "The next N lines contains M space separated integers.\n",
    "\n",
    "Output Format\n",
    "\n",
    "Compute the sum along axis 0. Then, print the product of that sum.\n",
    "\n",
    "Sample Input\n",
    "\n",
    "2 2\n",
    "1 2\n",
    "3 4\n",
    "Sample Output\n",
    "\n",
    "24\n"
   ]
  },
  {
   "cell_type": "code",
   "execution_count": 23,
   "metadata": {},
   "outputs": [
    {
     "name": "stdout",
     "output_type": "stream",
     "text": [
      "2 2\n",
      "1 2\n",
      "3 4\n",
      "24\n"
     ]
    }
   ],
   "source": [
    "n,m = map(int,input().strip().split())\n",
    "arr = [input().split()for i in range(n)]\n",
    "array = np.array(arr,dtype= np.int)\n",
    "sum_ax_0 = np.sum(array,axis=0)\n",
    "print(np.prod(sum_ax_0))"
   ]
  },
  {
   "cell_type": "markdown",
   "metadata": {},
   "source": [
    "# Question 10"
   ]
  },
  {
   "cell_type": "raw",
   "metadata": {},
   "source": [
    "min and max\n",
    "\n",
    "You are given a 2-D array with dimensions NXM.\n",
    "Your task is to perform the min function over axis 1 and then find the max of that.\n",
    "\n",
    "Input Format\n",
    "\n",
    "The first line of input contains the space separated values of N and M.\n",
    "The next N lines contains M space separated integers.\n",
    "\n",
    "Output Format\n",
    "\n",
    "Compute the min along axis 1 and then print the max of that result.\n",
    "\n",
    "Sample Input\n",
    "\n",
    "4 2\n",
    "2 5\n",
    "3 7\n",
    "1 3\n",
    "4 0\n",
    "Sample Output\n",
    "\n",
    "3\n"
   ]
  },
  {
   "cell_type": "code",
   "execution_count": 26,
   "metadata": {},
   "outputs": [
    {
     "name": "stdout",
     "output_type": "stream",
     "text": [
      "4 2\n",
      "2 5\n",
      "3 7\n",
      "1 3\n",
      "4 0\n",
      "3\n"
     ]
    }
   ],
   "source": [
    "n,m = map(int,input().strip().split())\n",
    "arr = [input().strip().split() for i in range(n)]\n",
    "array = np.array(arr,dtype=np.int)\n",
    "min_ax_1 = np.min(array,axis=1)\n",
    "print(np.max(min_ax_1))"
   ]
  },
  {
   "cell_type": "markdown",
   "metadata": {},
   "source": [
    "# Question 11"
   ]
  },
  {
   "cell_type": "raw",
   "metadata": {},
   "source": [
    "mean, var, std\n",
    "\n",
    "You are given a 2-D array of size NXM.\n",
    "Your task is to find:\n",
    "\n",
    "The mean along axis 1 \n",
    "The var along axis 0\n",
    "The std along axis none\n",
    "\n",
    "Input Format\n",
    "\n",
    "The first line contains the space separated values of N and M.\n",
    "The next N lines contains M space separated integers.\n",
    "\n",
    "Output Format\n",
    "\n",
    "First, print the mean.\n",
    "Second, print the var.\n",
    "Third, print the std.\n"
   ]
  },
  {
   "cell_type": "code",
   "execution_count": 28,
   "metadata": {},
   "outputs": [
    {
     "name": "stdout",
     "output_type": "stream",
     "text": [
      "2 2\n",
      "1 2\n",
      "3 4\n",
      "[1.5 3.5]\n",
      "[1. 1.]\n",
      "1.118033988749895\n"
     ]
    }
   ],
   "source": [
    "n,m = map(int,input().strip().split())\n",
    "arr = [input().strip().split() for i in range(n)]\n",
    "array = np.array(arr,dtype = np.int)\n",
    "print(np.mean(array,axis= 1))\n",
    "print(np.var(array,axis=0))\n",
    "print(np.std(array))"
   ]
  },
  {
   "cell_type": "code",
   "execution_count": 29,
   "metadata": {},
   "outputs": [
    {
     "name": "stdout",
     "output_type": "stream",
     "text": [
      "1.11803398875\n"
     ]
    }
   ],
   "source": [
    "print(round(np.std(array),ndigits=11))\n"
   ]
  },
  {
   "cell_type": "markdown",
   "metadata": {},
   "source": [
    "# Question 12"
   ]
  },
  {
   "cell_type": "markdown",
   "metadata": {},
   "source": [
    "Dot and cross product\n",
    "\n",
    "You are given two arrays A and B . Both have dimensions of NXN.\n",
    "Your task is to compute their matrix product.\n",
    "\n",
    "Input Format\n",
    "\n",
    "The first line contains the integer N.\n",
    "The next N lines contains N space separated integers of array A.\n",
    "The following N lines contains N space separated integers of array b.\n",
    "\n",
    "Output Format\n",
    "\n",
    "Print the matrix multiplication of A and B.\n"
   ]
  },
  {
   "cell_type": "code",
   "execution_count": 17,
   "metadata": {},
   "outputs": [
    {
     "name": "stdout",
     "output_type": "stream",
     "text": [
      "2\n",
      "1 2\n",
      "3 4\n",
      "1 2\n",
      "3 4\n",
      "[[ 7 10]\n",
      " [15 22]]\n",
      "[0 0]\n"
     ]
    }
   ],
   "source": [
    "n = int(input())\n",
    "arr1 = [input().split() for i in range(n)]\n",
    "A    = np.array(arr1,dtype=np.int)\n",
    "arr2 = [input().split() for i in range(n)]\n",
    "B    = np.array(arr2,dtype= np.int)\n",
    "print(np.dot(A,B))"
   ]
  },
  {
   "cell_type": "markdown",
   "metadata": {},
   "source": [
    "# Question 13"
   ]
  },
  {
   "cell_type": "raw",
   "metadata": {},
   "source": [
    "Linear Algebra\n",
    "\n",
    "You are given a square matrix A with dimensions NXN. Your task is to find the determinant. Note: Round the answer to 2 places after the decimal.\n",
    "\n",
    "Input Format:\n",
    "\n",
    "The first line contains the integer N.\n",
    "The next N lines contains the N space separated elements of array A.\n",
    "\n",
    "Output Format:\n",
    "\n",
    "Print the determinant of A.\n"
   ]
  },
  {
   "cell_type": "code",
   "execution_count": 26,
   "metadata": {},
   "outputs": [
    {
     "name": "stdout",
     "output_type": "stream",
     "text": [
      "2\n",
      "1.1 1.1\n",
      "1.1 1.2\n",
      "0.11\n"
     ]
    }
   ],
   "source": [
    "n = int(input())\n",
    "arr = [input().strip().split() for i in range(n)]\n",
    "A = np.array(arr,dtype=np.float)\n",
    "determinant = round(np.linalg.det(A),2)\n",
    "print(determinant)\n"
   ]
  },
  {
   "cell_type": "markdown",
   "metadata": {},
   "source": [
    "# Question 14"
   ]
  },
  {
   "cell_type": "raw",
   "metadata": {},
   "source": [
    "Polynomials\n",
    "\n",
    "You are given the coefficients of a polynomial P.\n",
    "Your task is to find the value of P at point x.\n",
    "\n",
    "Input Format\n",
    "\n",
    "The first line contains the space separated value of the coefficients in P.\n",
    "The second line contains the value of x.\n",
    "\n",
    "Output Format\n",
    "\n",
    "Print the desired value.\n"
   ]
  },
  {
   "cell_type": "code",
   "execution_count": 32,
   "metadata": {},
   "outputs": [
    {
     "name": "stdout",
     "output_type": "stream",
     "text": [
      "1.1 2 3\n",
      "0\n",
      "3.0\n"
     ]
    }
   ],
   "source": [
    "p = input().strip().split()\n",
    "x= int(input())\n",
    "poly = np.array(p,dtype = np.float)\n",
    "print (np.polyval(poly,x))  "
   ]
  },
  {
   "cell_type": "markdown",
   "metadata": {},
   "source": [
    "# Question 15"
   ]
  },
  {
   "cell_type": "raw",
   "metadata": {},
   "source": [
    "Inner and outer product\n",
    "\n",
    "You are given two arrays: A and B.\n",
    "Your task is to compute their inner and outer product.\n",
    "\n",
    "Input Format\n",
    "\n",
    "The first line contains the space separated elements of array A.\n",
    "The second line contains the space separated elements of array B.\n",
    "\n",
    "Output Format\n",
    "\n",
    "First, print the inner product.\n",
    "Second, print the outer product.\n",
    "\n"
   ]
  },
  {
   "cell_type": "code",
   "execution_count": 33,
   "metadata": {},
   "outputs": [
    {
     "name": "stdout",
     "output_type": "stream",
     "text": [
      "0 1\n",
      "2 3\n",
      "3\n",
      "[[0 0]\n",
      " [2 3]]\n"
     ]
    }
   ],
   "source": [
    "n = input().strip().split()\n",
    "m = input().strip().split()\n",
    "A = np.array(n,dtype= np.int)\n",
    "B = np.array(m,dtype= np.int)\n",
    "\n",
    "print(np.inner(A,B))\n",
    "print(np.outer(A,B))"
   ]
  },
  {
   "cell_type": "code",
   "execution_count": null,
   "metadata": {},
   "outputs": [],
   "source": []
  }
 ],
 "metadata": {
  "kernelspec": {
   "display_name": "Python 3",
   "language": "python",
   "name": "python3"
  },
  "language_info": {
   "codemirror_mode": {
    "name": "ipython",
    "version": 3
   },
   "file_extension": ".py",
   "mimetype": "text/x-python",
   "name": "python",
   "nbconvert_exporter": "python",
   "pygments_lexer": "ipython3",
   "version": "3.8.5"
  }
 },
 "nbformat": 4,
 "nbformat_minor": 4
}
